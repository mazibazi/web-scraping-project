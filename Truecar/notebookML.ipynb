{
 "cells": [
  {
   "cell_type": "code",
   "execution_count": 1,
   "metadata": {
    "collapsed": true
   },
   "outputs": [],
   "source": [
    "import numpy as np\n",
    "import pandas as pd\n",
    "import seaborn as sb\n",
    "import matplotlib.pyplot as plt\n",
    "from matplotlib.pyplot import xticks"
   ]
  },
  {
   "cell_type": "code",
   "execution_count": 2,
   "outputs": [
    {
     "data": {
      "text/plain": "Index(['Unnamed: 0', 'carName', 'carCompany', 'carAge', 'carGear', 'carPrice',\n       'carMile', 'carLocationCity', 'carLocationState', 'carColorEx',\n       'carColorIn', 'carAccident', 'carOwner', 'carUsage', 'currentTime',\n       'currentDay'],\n      dtype='object')"
     },
     "execution_count": 2,
     "metadata": {},
     "output_type": "execute_result"
    }
   ],
   "source": [
    "df = pd.read_csv(\"carReportedFinalNew.csv\")\n",
    "df.columns"
   ],
   "metadata": {
    "collapsed": false,
    "pycharm": {
     "name": "#%%\n"
    }
   }
  },
  {
   "cell_type": "code",
   "execution_count": 3,
   "outputs": [
    {
     "name": "stdout",
     "output_type": "stream",
     "text": [
      "Index(['carName', 'carCompany', 'carAge', 'carGear', 'carPrice', 'carMile',\n",
      "       'carLocationCity', 'carLocationState', 'carColorEx', 'carColorIn',\n",
      "       'carAccident', 'carOwner', 'carUsage'],\n",
      "      dtype='object')\n"
     ]
    }
   ],
   "source": [
    "df.drop(df.columns[0], axis=1, inplace=True)\n",
    "df.drop(df.columns[-1], axis=1, inplace=True)\n",
    "df.drop(df.columns[-1], axis=1, inplace=True)\n",
    "print(df.columns)"
   ],
   "metadata": {
    "collapsed": false,
    "pycharm": {
     "name": "#%%\n"
    }
   }
  },
  {
   "cell_type": "markdown",
   "source": [
    "# Data Preprocessing"
   ],
   "metadata": {
    "collapsed": false,
    "pycharm": {
     "name": "#%% md\n"
    }
   }
  },
  {
   "cell_type": "code",
   "execution_count": 4,
   "outputs": [
    {
     "data": {
      "text/plain": "13"
     },
     "execution_count": 4,
     "metadata": {},
     "output_type": "execute_result"
    }
   ],
   "source": [
    "len(df.columns)"
   ],
   "metadata": {
    "collapsed": false,
    "pycharm": {
     "name": "#%%\n"
    }
   }
  },
  {
   "cell_type": "code",
   "execution_count": 5,
   "outputs": [
    {
     "name": "stdout",
     "output_type": "stream",
     "text": [
      "<class 'pandas.core.frame.DataFrame'>\n",
      "RangeIndex: 9966 entries, 0 to 9965\n",
      "Data columns (total 13 columns):\n",
      " #   Column            Non-Null Count  Dtype \n",
      "---  ------            --------------  ----- \n",
      " 0   carName           9966 non-null   object\n",
      " 1   carCompany        9966 non-null   object\n",
      " 2   carAge            9966 non-null   int64 \n",
      " 3   carGear           9966 non-null   object\n",
      " 4   carPrice          9966 non-null   int64 \n",
      " 5   carMile           9966 non-null   int64 \n",
      " 6   carLocationCity   9966 non-null   object\n",
      " 7   carLocationState  9966 non-null   object\n",
      " 8   carColorEx        9966 non-null   object\n",
      " 9   carColorIn        9966 non-null   object\n",
      " 10  carAccident       9966 non-null   int64 \n",
      " 11  carOwner          9966 non-null   object\n",
      " 12  carUsage          9966 non-null   object\n",
      "dtypes: int64(4), object(9)\n",
      "memory usage: 1012.3+ KB\n"
     ]
    }
   ],
   "source": [
    "df.info()"
   ],
   "metadata": {
    "collapsed": false,
    "pycharm": {
     "name": "#%%\n"
    }
   }
  },
  {
   "cell_type": "code",
   "execution_count": 6,
   "outputs": [
    {
     "name": "stdout",
     "output_type": "stream",
     "text": [
      "\n",
      "--------------carName--------------\n",
      "count           9966\n",
      "unique           212\n",
      "top       Ford F-150\n",
      "freq            2198\n",
      "Name: carName, dtype: object\n",
      "\n",
      "--------------carCompany--------------\n",
      "count     9966\n",
      "unique      42\n",
      "top       Ford\n",
      "freq      3432\n",
      "Name: carCompany, dtype: object\n",
      "\n",
      "--------------carAge--------------\n",
      "count    9966.000000\n",
      "mean     2017.876279\n",
      "std         1.918261\n",
      "min      1997.000000\n",
      "25%      2018.000000\n",
      "50%      2018.000000\n",
      "75%      2019.000000\n",
      "max      2021.000000\n",
      "Name: carAge, dtype: float64\n",
      "\n",
      "--------------carGear--------------\n",
      "count                           9966\n",
      "unique                           959\n",
      "top       XLT SuperCrew 5.5' Box 4WD\n",
      "freq                            1162\n",
      "Name: carGear, dtype: object\n",
      "\n",
      "--------------carPrice--------------\n",
      "count      9966.000000\n",
      "mean      28734.512041\n",
      "std       11102.387382\n",
      "min        1500.000000\n",
      "25%       19993.250000\n",
      "50%       27999.000000\n",
      "75%       36952.000000\n",
      "max      101586.000000\n",
      "Name: carPrice, dtype: float64\n",
      "\n",
      "--------------carMile--------------\n",
      "count      9966.000000\n",
      "mean      54543.822798\n",
      "std       36164.320248\n",
      "min          19.000000\n",
      "25%       29709.000000\n",
      "50%       44767.500000\n",
      "75%       69515.000000\n",
      "max      293352.000000\n",
      "Name: carMile, dtype: float64\n",
      "\n",
      "--------------carLocationCity--------------\n",
      "count        9966\n",
      "unique       1368\n",
      "top       Houston\n",
      "freq          256\n",
      "Name: carLocationCity, dtype: object\n",
      "\n",
      "--------------carLocationState--------------\n",
      "count     9966\n",
      "unique      50\n",
      "top         TX\n",
      "freq      2130\n",
      "Name: carLocationState, dtype: object\n",
      "\n",
      "--------------carColorEx--------------\n",
      "count      9966\n",
      "unique       15\n",
      "top       White\n",
      "freq       3456\n",
      "Name: carColorEx, dtype: object\n",
      "\n",
      "--------------carColorIn--------------\n",
      "count      9966\n",
      "unique        9\n",
      "top       Black\n",
      "freq       6374\n",
      "Name: carColorIn, dtype: object\n",
      "\n",
      "--------------carAccident--------------\n",
      "count    9966.000000\n",
      "mean        0.165764\n",
      "std         0.432285\n",
      "min         0.000000\n",
      "25%         0.000000\n",
      "50%         0.000000\n",
      "75%         0.000000\n",
      "max         5.000000\n",
      "Name: carAccident, dtype: float64\n",
      "\n",
      "--------------carOwner--------------\n",
      "count     9966\n",
      "unique      10\n",
      "top          1\n",
      "freq      6518\n",
      "Name: carOwner, dtype: object\n",
      "\n",
      "--------------carUsage--------------\n",
      "count         9966\n",
      "unique           2\n",
      "top       Personal\n",
      "freq          8446\n",
      "Name: carUsage, dtype: object\n"
     ]
    }
   ],
   "source": [
    "for i in range(0, len(df.columns)):\n",
    "    data_describe = df.iloc[:, i].describe()\n",
    "    print(str(\"\\n\") + \"--\" * 7 + str(df.columns[i]) + \"--\" * 7)\n",
    "    print(data_describe)"
   ],
   "metadata": {
    "collapsed": false,
    "pycharm": {
     "name": "#%%\n"
    }
   }
  },
  {
   "cell_type": "markdown",
   "source": [
    "*Check each column data are selected right or not*<br />\n",
    "**carNam** will be Dropped<br />\n",
    "**carCompany** -->  target *feature* <br />\n",
    "**carAge:**  convert it to old instead of age -->  *feature* <br/>\n",
    "**carGear:** should check unique condition --> *not feature* <br />\n",
    "**carPrice**-->  target *feature* <br />\n",
    "**carMile**-->  *feature*<br />\n",
    "**carLocationCity:** we have more than 1000 different city, so it would not be useful --> *not feature*<br />\n",
    "**carLocationState:** might be useful but 55% of data are included 3 states --> Doubt *feature*<br />\n",
    "**carColorEx:** I dropped 17 Unknown car  (hypothesis) -->  *feature* <br />\n",
    "**carColorIn:** Change Unknown color to Black (hypothesis) -->  Doubt *feature* <br />\n",
    "**carAccident:** I check it so well they are correct and even outliers are logical -->  *feature* <br />\n",
    "**carOwner** should check unique condition -->  *feature* <br />\n",
    "**carUsage**-->  *feature* <br />\n",
    "*currentTime* will be Dropped<br />"
   ],
   "metadata": {
    "collapsed": false,
    "pycharm": {
     "name": "#%% md\n"
    }
   }
  },
  {
   "cell_type": "markdown",
   "source": [
    "## carOwner check"
   ],
   "metadata": {
    "collapsed": false,
    "pycharm": {
     "name": "#%% md\n"
    }
   }
  },
  {
   "cell_type": "code",
   "execution_count": 7,
   "outputs": [
    {
     "data": {
      "text/plain": "array(['2', '1', '4', '3', 'Personal', '7', '5', 'Fleet', '6', '9'],\n      dtype=object)"
     },
     "execution_count": 7,
     "metadata": {},
     "output_type": "execute_result"
    }
   ],
   "source": [
    "df.carOwner.unique()"
   ],
   "metadata": {
    "collapsed": false,
    "pycharm": {
     "name": "#%%\n"
    }
   }
  },
  {
   "cell_type": "code",
   "execution_count": 8,
   "outputs": [
    {
     "data": {
      "text/plain": "            carName carCompany  carAge                         carGear  \\\n64       Ford F-150       Ford    2017      XLT SuperCrew 5.5' Box 4WD   \n178      Ford F-150       Ford    2019      XLT SuperCrew 5.5' Box 4WD   \n280        Ram 1500        Ram    2020  Big Horn Crew Cab 5'7\" Box 4WD   \n289      Ford F-150       Ford    2019      XLT SuperCrew 5.5' Box 4WD   \n309      Ford F-150       Ford    2018  Limited SuperCrew 5.5' Box 4WD   \n...             ...        ...     ...                             ...   \n9030   Nissan Rogue     Nissan    2017                          SV FWD   \n9038     Ford F-150       Ford    2019   Raptor SuperCrew 5.5' Box 4WD   \n9500   Toyota Camry     Toyota    2020                SE FWD Automatic   \n9626  Nissan Sentra     Nissan    2017                           S CVT   \n9882   smart fortwo      smart    2016                      Pure Coupe   \n\n      carPrice  carMile  carLocationCity carLocationState carColorEx  \\\n64       26990   113243     Grand Rapids               MI      White   \n178      38576    31869  Michigan Center               MI      White   \n280      41999    19918             Lima               OH      Black   \n289      36944    62153           Newnan               GA      White   \n309      48990    65000           Newnan               GA      Black   \n...        ...      ...              ...              ...        ...   \n9030     16495    65214         Fairport               NY      White   \n9038     73495    22779        Hillsboro               OR      White   \n9500     23495    20353      West Seneca               NY     Silver   \n9626     11590    97295     Grand Rapids               MI      Black   \n9882      8995    36057         Minneola               FL      White   \n\n     carColorIn  carAccident  carOwner  carUsage  \n64      Unknown            0  Personal  Personal  \n178       Beige            0  Personal  Personal  \n280       Black            0  Personal  Personal  \n289       Black            0  Personal  Personal  \n309        Blue            0  Personal  Personal  \n...         ...          ...       ...       ...  \n9030      Black            0  Personal  Personal  \n9038      Black            0  Personal  Personal  \n9500      Black            0  Personal  Personal  \n9626      Black            0  Personal  Personal  \n9882      Black            0  Personal  Personal  \n\n[118 rows x 13 columns]",
      "text/html": "<div>\n<style scoped>\n    .dataframe tbody tr th:only-of-type {\n        vertical-align: middle;\n    }\n\n    .dataframe tbody tr th {\n        vertical-align: top;\n    }\n\n    .dataframe thead th {\n        text-align: right;\n    }\n</style>\n<table border=\"1\" class=\"dataframe\">\n  <thead>\n    <tr style=\"text-align: right;\">\n      <th></th>\n      <th>carName</th>\n      <th>carCompany</th>\n      <th>carAge</th>\n      <th>carGear</th>\n      <th>carPrice</th>\n      <th>carMile</th>\n      <th>carLocationCity</th>\n      <th>carLocationState</th>\n      <th>carColorEx</th>\n      <th>carColorIn</th>\n      <th>carAccident</th>\n      <th>carOwner</th>\n      <th>carUsage</th>\n    </tr>\n  </thead>\n  <tbody>\n    <tr>\n      <th>64</th>\n      <td>Ford F-150</td>\n      <td>Ford</td>\n      <td>2017</td>\n      <td>XLT SuperCrew 5.5' Box 4WD</td>\n      <td>26990</td>\n      <td>113243</td>\n      <td>Grand Rapids</td>\n      <td>MI</td>\n      <td>White</td>\n      <td>Unknown</td>\n      <td>0</td>\n      <td>Personal</td>\n      <td>Personal</td>\n    </tr>\n    <tr>\n      <th>178</th>\n      <td>Ford F-150</td>\n      <td>Ford</td>\n      <td>2019</td>\n      <td>XLT SuperCrew 5.5' Box 4WD</td>\n      <td>38576</td>\n      <td>31869</td>\n      <td>Michigan Center</td>\n      <td>MI</td>\n      <td>White</td>\n      <td>Beige</td>\n      <td>0</td>\n      <td>Personal</td>\n      <td>Personal</td>\n    </tr>\n    <tr>\n      <th>280</th>\n      <td>Ram 1500</td>\n      <td>Ram</td>\n      <td>2020</td>\n      <td>Big Horn Crew Cab 5'7\" Box 4WD</td>\n      <td>41999</td>\n      <td>19918</td>\n      <td>Lima</td>\n      <td>OH</td>\n      <td>Black</td>\n      <td>Black</td>\n      <td>0</td>\n      <td>Personal</td>\n      <td>Personal</td>\n    </tr>\n    <tr>\n      <th>289</th>\n      <td>Ford F-150</td>\n      <td>Ford</td>\n      <td>2019</td>\n      <td>XLT SuperCrew 5.5' Box 4WD</td>\n      <td>36944</td>\n      <td>62153</td>\n      <td>Newnan</td>\n      <td>GA</td>\n      <td>White</td>\n      <td>Black</td>\n      <td>0</td>\n      <td>Personal</td>\n      <td>Personal</td>\n    </tr>\n    <tr>\n      <th>309</th>\n      <td>Ford F-150</td>\n      <td>Ford</td>\n      <td>2018</td>\n      <td>Limited SuperCrew 5.5' Box 4WD</td>\n      <td>48990</td>\n      <td>65000</td>\n      <td>Newnan</td>\n      <td>GA</td>\n      <td>Black</td>\n      <td>Blue</td>\n      <td>0</td>\n      <td>Personal</td>\n      <td>Personal</td>\n    </tr>\n    <tr>\n      <th>...</th>\n      <td>...</td>\n      <td>...</td>\n      <td>...</td>\n      <td>...</td>\n      <td>...</td>\n      <td>...</td>\n      <td>...</td>\n      <td>...</td>\n      <td>...</td>\n      <td>...</td>\n      <td>...</td>\n      <td>...</td>\n      <td>...</td>\n    </tr>\n    <tr>\n      <th>9030</th>\n      <td>Nissan Rogue</td>\n      <td>Nissan</td>\n      <td>2017</td>\n      <td>SV FWD</td>\n      <td>16495</td>\n      <td>65214</td>\n      <td>Fairport</td>\n      <td>NY</td>\n      <td>White</td>\n      <td>Black</td>\n      <td>0</td>\n      <td>Personal</td>\n      <td>Personal</td>\n    </tr>\n    <tr>\n      <th>9038</th>\n      <td>Ford F-150</td>\n      <td>Ford</td>\n      <td>2019</td>\n      <td>Raptor SuperCrew 5.5' Box 4WD</td>\n      <td>73495</td>\n      <td>22779</td>\n      <td>Hillsboro</td>\n      <td>OR</td>\n      <td>White</td>\n      <td>Black</td>\n      <td>0</td>\n      <td>Personal</td>\n      <td>Personal</td>\n    </tr>\n    <tr>\n      <th>9500</th>\n      <td>Toyota Camry</td>\n      <td>Toyota</td>\n      <td>2020</td>\n      <td>SE FWD Automatic</td>\n      <td>23495</td>\n      <td>20353</td>\n      <td>West Seneca</td>\n      <td>NY</td>\n      <td>Silver</td>\n      <td>Black</td>\n      <td>0</td>\n      <td>Personal</td>\n      <td>Personal</td>\n    </tr>\n    <tr>\n      <th>9626</th>\n      <td>Nissan Sentra</td>\n      <td>Nissan</td>\n      <td>2017</td>\n      <td>S CVT</td>\n      <td>11590</td>\n      <td>97295</td>\n      <td>Grand Rapids</td>\n      <td>MI</td>\n      <td>Black</td>\n      <td>Black</td>\n      <td>0</td>\n      <td>Personal</td>\n      <td>Personal</td>\n    </tr>\n    <tr>\n      <th>9882</th>\n      <td>smart fortwo</td>\n      <td>smart</td>\n      <td>2016</td>\n      <td>Pure Coupe</td>\n      <td>8995</td>\n      <td>36057</td>\n      <td>Minneola</td>\n      <td>FL</td>\n      <td>White</td>\n      <td>Black</td>\n      <td>0</td>\n      <td>Personal</td>\n      <td>Personal</td>\n    </tr>\n  </tbody>\n</table>\n<p>118 rows × 13 columns</p>\n</div>"
     },
     "execution_count": 8,
     "metadata": {},
     "output_type": "execute_result"
    }
   ],
   "source": [
    "df.loc[df['carOwner'] == \"Personal\"]"
   ],
   "metadata": {
    "collapsed": false,
    "pycharm": {
     "name": "#%%\n"
    }
   }
  },
  {
   "cell_type": "code",
   "execution_count": 9,
   "outputs": [],
   "source": [
    "df['carOwner'].replace({\"Personal\":\"1\"}, inplace=True)"
   ],
   "metadata": {
    "collapsed": false,
    "pycharm": {
     "name": "#%%\n"
    }
   }
  },
  {
   "cell_type": "code",
   "execution_count": 10,
   "outputs": [
    {
     "data": {
      "text/plain": "array(['2', '1', '4', '3', '7', '5', 'Fleet', '6', '9'], dtype=object)"
     },
     "execution_count": 10,
     "metadata": {},
     "output_type": "execute_result"
    }
   ],
   "source": [
    "df.carOwner.unique()"
   ],
   "metadata": {
    "collapsed": false,
    "pycharm": {
     "name": "#%%\n"
    }
   }
  },
  {
   "cell_type": "markdown",
   "source": [
    "**for finding Unspecific** row <br/>\n",
    "df.loc[df['carOwner'] == \"Fleet\"] <br/>\n",
    "df[df['carColorEx'] == 'Unknown'].index.to_numpy()"
   ],
   "metadata": {
    "collapsed": false,
    "pycharm": {
     "name": "#%% md\n"
    }
   }
  },
  {
   "cell_type": "code",
   "execution_count": 11,
   "outputs": [
    {
     "data": {
      "text/plain": "                       carName carCompany  carAge  \\\n1476  Chevrolet Silverado 1500  Chevrolet    2020   \n6994           Ford Expedition       Ford    2017   \n\n                          carGear  carPrice  carMile carLocationCity  \\\n1476  WT Regular Cab Long Bed 2WD     31789    27488         Modesto   \n6994                       XL 4x4     21785   115289       Cornelius   \n\n     carLocationState carColorEx carColorIn  carAccident carOwner carUsage  \n1476               CA      White      Black            0    Fleet    Fleet  \n6994               NC      White      Black            0    Fleet    Fleet  ",
      "text/html": "<div>\n<style scoped>\n    .dataframe tbody tr th:only-of-type {\n        vertical-align: middle;\n    }\n\n    .dataframe tbody tr th {\n        vertical-align: top;\n    }\n\n    .dataframe thead th {\n        text-align: right;\n    }\n</style>\n<table border=\"1\" class=\"dataframe\">\n  <thead>\n    <tr style=\"text-align: right;\">\n      <th></th>\n      <th>carName</th>\n      <th>carCompany</th>\n      <th>carAge</th>\n      <th>carGear</th>\n      <th>carPrice</th>\n      <th>carMile</th>\n      <th>carLocationCity</th>\n      <th>carLocationState</th>\n      <th>carColorEx</th>\n      <th>carColorIn</th>\n      <th>carAccident</th>\n      <th>carOwner</th>\n      <th>carUsage</th>\n    </tr>\n  </thead>\n  <tbody>\n    <tr>\n      <th>1476</th>\n      <td>Chevrolet Silverado 1500</td>\n      <td>Chevrolet</td>\n      <td>2020</td>\n      <td>WT Regular Cab Long Bed 2WD</td>\n      <td>31789</td>\n      <td>27488</td>\n      <td>Modesto</td>\n      <td>CA</td>\n      <td>White</td>\n      <td>Black</td>\n      <td>0</td>\n      <td>Fleet</td>\n      <td>Fleet</td>\n    </tr>\n    <tr>\n      <th>6994</th>\n      <td>Ford Expedition</td>\n      <td>Ford</td>\n      <td>2017</td>\n      <td>XL 4x4</td>\n      <td>21785</td>\n      <td>115289</td>\n      <td>Cornelius</td>\n      <td>NC</td>\n      <td>White</td>\n      <td>Black</td>\n      <td>0</td>\n      <td>Fleet</td>\n      <td>Fleet</td>\n    </tr>\n  </tbody>\n</table>\n</div>"
     },
     "execution_count": 11,
     "metadata": {},
     "output_type": "execute_result"
    }
   ],
   "source": [
    "df.loc[df['carOwner'] == \"Fleet\"]"
   ],
   "metadata": {
    "collapsed": false,
    "pycharm": {
     "name": "#%%\n"
    }
   }
  },
  {
   "cell_type": "code",
   "execution_count": 12,
   "outputs": [
    {
     "data": {
      "text/plain": "                       carName carCompany  carAge                     carGear  \\\n0               Toyota 4Runner     Toyota    2017                     SR5 4WD   \n1                       BMW X3        BMW    2019               xDrive30i AWD   \n2                 Nissan Titan     Nissan    2021         PRO-4X Crew Cab 4WD   \n3                  Toyota RAV4     Toyota    2019                     XLE FWD   \n4                      Audi S5       Audi    2019           Premium Sportback   \n...                        ...        ...     ...                         ...   \n9961              Nissan Rogue     Nissan    2018                       S AWD   \n9962             Nissan Sentra     Nissan    2019                       S CVT   \n9963                Ford F-150       Ford    2021  XLT SuperCrew 5.5' Box 4WD   \n9964              Ford Mustang       Ford    2018           EcoBoost Fastback   \n9965  Chevrolet Silverado 1500  Chevrolet    2020  RST Crew Cab Short Bed 4WD   \n\n      carPrice  carMile carLocationCity carLocationState carColorEx  \\\n0        33987    46375        Columbus               OH     Silver   \n1        41499    16816           Tracy               CA      White   \n2        53999       19           Boise               ID        Red   \n3        30499    42270     Statesville               NC     Silver   \n4        44495    24554           Exton               PA       Gray   \n...        ...      ...             ...              ...        ...   \n9961     12985   137851   Ellicott City               MD     Silver   \n9962     19995    38931           Selma               CA      White   \n9963     55321     5299        Columbus               TX      Black   \n9964     26515    28256      Long Beach               CA      White   \n9965     46164    38261     Mount Horeb               WI       Blue   \n\n     carColorIn  carAccident carOwner  carUsage  \n0         Black            1        2  Personal  \n1         Black            0        1  Personal  \n2         Black            0        1  Personal  \n3         Black            0        2  Personal  \n4          Gray            1        1  Personal  \n...         ...          ...      ...       ...  \n9961      Black            0        2  Personal  \n9962      Black            0        1  Personal  \n9963      Black            0        1  Personal  \n9964      Black            0        1  Personal  \n9965      Black            0        1  Personal  \n\n[9966 rows x 13 columns]",
      "text/html": "<div>\n<style scoped>\n    .dataframe tbody tr th:only-of-type {\n        vertical-align: middle;\n    }\n\n    .dataframe tbody tr th {\n        vertical-align: top;\n    }\n\n    .dataframe thead th {\n        text-align: right;\n    }\n</style>\n<table border=\"1\" class=\"dataframe\">\n  <thead>\n    <tr style=\"text-align: right;\">\n      <th></th>\n      <th>carName</th>\n      <th>carCompany</th>\n      <th>carAge</th>\n      <th>carGear</th>\n      <th>carPrice</th>\n      <th>carMile</th>\n      <th>carLocationCity</th>\n      <th>carLocationState</th>\n      <th>carColorEx</th>\n      <th>carColorIn</th>\n      <th>carAccident</th>\n      <th>carOwner</th>\n      <th>carUsage</th>\n    </tr>\n  </thead>\n  <tbody>\n    <tr>\n      <th>0</th>\n      <td>Toyota 4Runner</td>\n      <td>Toyota</td>\n      <td>2017</td>\n      <td>SR5 4WD</td>\n      <td>33987</td>\n      <td>46375</td>\n      <td>Columbus</td>\n      <td>OH</td>\n      <td>Silver</td>\n      <td>Black</td>\n      <td>1</td>\n      <td>2</td>\n      <td>Personal</td>\n    </tr>\n    <tr>\n      <th>1</th>\n      <td>BMW X3</td>\n      <td>BMW</td>\n      <td>2019</td>\n      <td>xDrive30i AWD</td>\n      <td>41499</td>\n      <td>16816</td>\n      <td>Tracy</td>\n      <td>CA</td>\n      <td>White</td>\n      <td>Black</td>\n      <td>0</td>\n      <td>1</td>\n      <td>Personal</td>\n    </tr>\n    <tr>\n      <th>2</th>\n      <td>Nissan Titan</td>\n      <td>Nissan</td>\n      <td>2021</td>\n      <td>PRO-4X Crew Cab 4WD</td>\n      <td>53999</td>\n      <td>19</td>\n      <td>Boise</td>\n      <td>ID</td>\n      <td>Red</td>\n      <td>Black</td>\n      <td>0</td>\n      <td>1</td>\n      <td>Personal</td>\n    </tr>\n    <tr>\n      <th>3</th>\n      <td>Toyota RAV4</td>\n      <td>Toyota</td>\n      <td>2019</td>\n      <td>XLE FWD</td>\n      <td>30499</td>\n      <td>42270</td>\n      <td>Statesville</td>\n      <td>NC</td>\n      <td>Silver</td>\n      <td>Black</td>\n      <td>0</td>\n      <td>2</td>\n      <td>Personal</td>\n    </tr>\n    <tr>\n      <th>4</th>\n      <td>Audi S5</td>\n      <td>Audi</td>\n      <td>2019</td>\n      <td>Premium Sportback</td>\n      <td>44495</td>\n      <td>24554</td>\n      <td>Exton</td>\n      <td>PA</td>\n      <td>Gray</td>\n      <td>Gray</td>\n      <td>1</td>\n      <td>1</td>\n      <td>Personal</td>\n    </tr>\n    <tr>\n      <th>...</th>\n      <td>...</td>\n      <td>...</td>\n      <td>...</td>\n      <td>...</td>\n      <td>...</td>\n      <td>...</td>\n      <td>...</td>\n      <td>...</td>\n      <td>...</td>\n      <td>...</td>\n      <td>...</td>\n      <td>...</td>\n      <td>...</td>\n    </tr>\n    <tr>\n      <th>9961</th>\n      <td>Nissan Rogue</td>\n      <td>Nissan</td>\n      <td>2018</td>\n      <td>S AWD</td>\n      <td>12985</td>\n      <td>137851</td>\n      <td>Ellicott City</td>\n      <td>MD</td>\n      <td>Silver</td>\n      <td>Black</td>\n      <td>0</td>\n      <td>2</td>\n      <td>Personal</td>\n    </tr>\n    <tr>\n      <th>9962</th>\n      <td>Nissan Sentra</td>\n      <td>Nissan</td>\n      <td>2019</td>\n      <td>S CVT</td>\n      <td>19995</td>\n      <td>38931</td>\n      <td>Selma</td>\n      <td>CA</td>\n      <td>White</td>\n      <td>Black</td>\n      <td>0</td>\n      <td>1</td>\n      <td>Personal</td>\n    </tr>\n    <tr>\n      <th>9963</th>\n      <td>Ford F-150</td>\n      <td>Ford</td>\n      <td>2021</td>\n      <td>XLT SuperCrew 5.5' Box 4WD</td>\n      <td>55321</td>\n      <td>5299</td>\n      <td>Columbus</td>\n      <td>TX</td>\n      <td>Black</td>\n      <td>Black</td>\n      <td>0</td>\n      <td>1</td>\n      <td>Personal</td>\n    </tr>\n    <tr>\n      <th>9964</th>\n      <td>Ford Mustang</td>\n      <td>Ford</td>\n      <td>2018</td>\n      <td>EcoBoost Fastback</td>\n      <td>26515</td>\n      <td>28256</td>\n      <td>Long Beach</td>\n      <td>CA</td>\n      <td>White</td>\n      <td>Black</td>\n      <td>0</td>\n      <td>1</td>\n      <td>Personal</td>\n    </tr>\n    <tr>\n      <th>9965</th>\n      <td>Chevrolet Silverado 1500</td>\n      <td>Chevrolet</td>\n      <td>2020</td>\n      <td>RST Crew Cab Short Bed 4WD</td>\n      <td>46164</td>\n      <td>38261</td>\n      <td>Mount Horeb</td>\n      <td>WI</td>\n      <td>Blue</td>\n      <td>Black</td>\n      <td>0</td>\n      <td>1</td>\n      <td>Personal</td>\n    </tr>\n  </tbody>\n</table>\n<p>9966 rows × 13 columns</p>\n</div>"
     },
     "execution_count": 12,
     "metadata": {},
     "output_type": "execute_result"
    }
   ],
   "source": [
    "df['carOwner'].replace({\"Fleet\":\"1\"}, inplace=True)\n",
    "df"
   ],
   "metadata": {
    "collapsed": false,
    "pycharm": {
     "name": "#%%\n"
    }
   }
  },
  {
   "cell_type": "code",
   "execution_count": 13,
   "outputs": [
    {
     "data": {
      "text/plain": "array(['2', '1', '4', '3', '7', '5', '6', '9'], dtype=object)"
     },
     "execution_count": 13,
     "metadata": {},
     "output_type": "execute_result"
    }
   ],
   "source": [
    "df.carOwner.unique()"
   ],
   "metadata": {
    "collapsed": false,
    "pycharm": {
     "name": "#%% Now it is fine we are going to check other\n"
    }
   }
  },
  {
   "cell_type": "markdown",
   "source": [
    "## carGear check -> will not be studied"
   ],
   "metadata": {
    "collapsed": false
   }
  },
  {
   "cell_type": "code",
   "execution_count": 14,
   "outputs": [],
   "source": [
    "# df.carGear.unique()"
   ],
   "metadata": {
    "collapsed": false,
    "pycharm": {
     "name": "#%% will not be studied\n"
    }
   }
  },
  {
   "cell_type": "markdown",
   "source": [
    "## Age, price, mile"
   ],
   "metadata": {
    "collapsed": false,
    "pycharm": {
     "name": "#%% md\n"
    }
   }
  },
  {
   "cell_type": "code",
   "execution_count": 15,
   "outputs": [
    {
     "name": "stdout",
     "output_type": "stream",
     "text": [
      "count      9966.000000\n",
      "mean      28734.512041\n",
      "std       11102.387382\n",
      "min        1500.000000\n",
      "25%       19993.250000\n",
      "50%       27999.000000\n",
      "75%       36952.000000\n",
      "max      101586.000000\n",
      "Name: carPrice, dtype: float64 \n",
      "\n",
      "count      9966.000000\n",
      "mean      54543.822798\n",
      "std       36164.320248\n",
      "min          19.000000\n",
      "25%       29709.000000\n",
      "50%       44767.500000\n",
      "75%       69515.000000\n",
      "max      293352.000000\n",
      "Name: carMile, dtype: float64\n"
     ]
    }
   ],
   "source": [
    "print(df.carPrice.describe(),\"\\n\")\n",
    "print(df.carMile.describe())"
   ],
   "metadata": {
    "collapsed": false,
    "pycharm": {
     "name": "#%%\n"
    }
   }
  },
  {
   "cell_type": "markdown",
   "source": [
    "Check which car is more expensive"
   ],
   "metadata": {
    "collapsed": false,
    "pycharm": {
     "name": "#%% md\n"
    }
   }
  },
  {
   "cell_type": "code",
   "execution_count": 16,
   "outputs": [
    {
     "data": {
      "text/plain": "                 carName carCompany  carAge       carGear  carPrice  carMile  \\\n2484       Dodge Stratus      Dodge    1999   Base Manual      1500   176246   \n4017       Buick LeSabre      Buick    2000        Custom      2999   157628   \n4274     Plymouth Breeze   Plymouth    1997         Sedan      2564   111140   \n4334    Chevrolet Impala  Chevrolet    2009        3.5 LT      2900   173695   \n8464  Pontiac Bonneville    Pontiac    1998  4dr Sedan SE      2000   279213   \n\n     carLocationCity carLocationState carColorEx carColorIn  carAccident  \\\n2484           Price               UT      White    Unknown            0   \n4017         Orlando               FL      White    Unknown            1   \n4274  Spokane Valley               WA      White       Gray            0   \n4334  Council Bluffs               IA      White      Black            0   \n8464    Tappahannock               VA      White       Gray            0   \n\n     carOwner  carUsage  \n2484        6  Personal  \n4017        5  Personal  \n4274        2  Personal  \n4334        2  Personal  \n8464        4  Personal  ",
      "text/html": "<div>\n<style scoped>\n    .dataframe tbody tr th:only-of-type {\n        vertical-align: middle;\n    }\n\n    .dataframe tbody tr th {\n        vertical-align: top;\n    }\n\n    .dataframe thead th {\n        text-align: right;\n    }\n</style>\n<table border=\"1\" class=\"dataframe\">\n  <thead>\n    <tr style=\"text-align: right;\">\n      <th></th>\n      <th>carName</th>\n      <th>carCompany</th>\n      <th>carAge</th>\n      <th>carGear</th>\n      <th>carPrice</th>\n      <th>carMile</th>\n      <th>carLocationCity</th>\n      <th>carLocationState</th>\n      <th>carColorEx</th>\n      <th>carColorIn</th>\n      <th>carAccident</th>\n      <th>carOwner</th>\n      <th>carUsage</th>\n    </tr>\n  </thead>\n  <tbody>\n    <tr>\n      <th>2484</th>\n      <td>Dodge Stratus</td>\n      <td>Dodge</td>\n      <td>1999</td>\n      <td>Base Manual</td>\n      <td>1500</td>\n      <td>176246</td>\n      <td>Price</td>\n      <td>UT</td>\n      <td>White</td>\n      <td>Unknown</td>\n      <td>0</td>\n      <td>6</td>\n      <td>Personal</td>\n    </tr>\n    <tr>\n      <th>4017</th>\n      <td>Buick LeSabre</td>\n      <td>Buick</td>\n      <td>2000</td>\n      <td>Custom</td>\n      <td>2999</td>\n      <td>157628</td>\n      <td>Orlando</td>\n      <td>FL</td>\n      <td>White</td>\n      <td>Unknown</td>\n      <td>1</td>\n      <td>5</td>\n      <td>Personal</td>\n    </tr>\n    <tr>\n      <th>4274</th>\n      <td>Plymouth Breeze</td>\n      <td>Plymouth</td>\n      <td>1997</td>\n      <td>Sedan</td>\n      <td>2564</td>\n      <td>111140</td>\n      <td>Spokane Valley</td>\n      <td>WA</td>\n      <td>White</td>\n      <td>Gray</td>\n      <td>0</td>\n      <td>2</td>\n      <td>Personal</td>\n    </tr>\n    <tr>\n      <th>4334</th>\n      <td>Chevrolet Impala</td>\n      <td>Chevrolet</td>\n      <td>2009</td>\n      <td>3.5 LT</td>\n      <td>2900</td>\n      <td>173695</td>\n      <td>Council Bluffs</td>\n      <td>IA</td>\n      <td>White</td>\n      <td>Black</td>\n      <td>0</td>\n      <td>2</td>\n      <td>Personal</td>\n    </tr>\n    <tr>\n      <th>8464</th>\n      <td>Pontiac Bonneville</td>\n      <td>Pontiac</td>\n      <td>1998</td>\n      <td>4dr Sedan SE</td>\n      <td>2000</td>\n      <td>279213</td>\n      <td>Tappahannock</td>\n      <td>VA</td>\n      <td>White</td>\n      <td>Gray</td>\n      <td>0</td>\n      <td>4</td>\n      <td>Personal</td>\n    </tr>\n  </tbody>\n</table>\n</div>"
     },
     "execution_count": 16,
     "metadata": {},
     "output_type": "execute_result"
    }
   ],
   "source": [
    "df.loc[df['carPrice'] < 3000]"
   ],
   "metadata": {
    "collapsed": false,
    "pycharm": {
     "name": "#%%\n"
    }
   }
  },
  {
   "cell_type": "code",
   "execution_count": 17,
   "outputs": [
    {
     "data": {
      "text/plain": "        carName carCompany  carAge              carGear  carPrice  carMile  \\\n2  Nissan Titan     Nissan    2021  PRO-4X Crew Cab 4WD     53999       19   \n\n  carLocationCity carLocationState carColorEx carColorIn  carAccident  \\\n2           Boise               ID        Red      Black            0   \n\n  carOwner  carUsage  \n2        1  Personal  ",
      "text/html": "<div>\n<style scoped>\n    .dataframe tbody tr th:only-of-type {\n        vertical-align: middle;\n    }\n\n    .dataframe tbody tr th {\n        vertical-align: top;\n    }\n\n    .dataframe thead th {\n        text-align: right;\n    }\n</style>\n<table border=\"1\" class=\"dataframe\">\n  <thead>\n    <tr style=\"text-align: right;\">\n      <th></th>\n      <th>carName</th>\n      <th>carCompany</th>\n      <th>carAge</th>\n      <th>carGear</th>\n      <th>carPrice</th>\n      <th>carMile</th>\n      <th>carLocationCity</th>\n      <th>carLocationState</th>\n      <th>carColorEx</th>\n      <th>carColorIn</th>\n      <th>carAccident</th>\n      <th>carOwner</th>\n      <th>carUsage</th>\n    </tr>\n  </thead>\n  <tbody>\n    <tr>\n      <th>2</th>\n      <td>Nissan Titan</td>\n      <td>Nissan</td>\n      <td>2021</td>\n      <td>PRO-4X Crew Cab 4WD</td>\n      <td>53999</td>\n      <td>19</td>\n      <td>Boise</td>\n      <td>ID</td>\n      <td>Red</td>\n      <td>Black</td>\n      <td>0</td>\n      <td>1</td>\n      <td>Personal</td>\n    </tr>\n  </tbody>\n</table>\n</div>"
     },
     "execution_count": 17,
     "metadata": {},
     "output_type": "execute_result"
    }
   ],
   "source": [
    "df[df[\"carMile\"] == 19]"
   ],
   "metadata": {
    "collapsed": false,
    "pycharm": {
     "name": "#%%\n"
    }
   }
  },
  {
   "cell_type": "markdown",
   "source": [
    "for changing all values of column we have two option:  <br/>\n",
    "def estimateOld(x): <br/>\n",
    "\treturn 2022 - x <br/>\n",
    "df[\"carAge\"].apply(estimateOld) <br/>\n",
    "df[\"carAge\"].apply(lambda x : 2022 - x)"
   ],
   "metadata": {
    "collapsed": false,
    "pycharm": {
     "name": "#%% md\n"
    }
   }
  },
  {
   "cell_type": "code",
   "execution_count": 18,
   "outputs": [],
   "source": [
    "df[\"carAge\"] = df[\"carAge\"].apply(lambda x : 2022 - x)"
   ],
   "metadata": {
    "collapsed": false,
    "pycharm": {
     "name": "#%%\n"
    }
   }
  },
  {
   "cell_type": "code",
   "execution_count": 19,
   "outputs": [
    {
     "data": {
      "text/plain": "0       5\n1       3\n2       1\n3       3\n4       3\n       ..\n9961    4\n9962    3\n9963    1\n9964    4\n9965    2\nName: carAge, Length: 9966, dtype: int64"
     },
     "execution_count": 19,
     "metadata": {},
     "output_type": "execute_result"
    }
   ],
   "source": [
    "df[\"carAge\"]"
   ],
   "metadata": {
    "collapsed": false,
    "pycharm": {
     "name": "#%%\n"
    }
   }
  },
  {
   "cell_type": "code",
   "execution_count": 19,
   "outputs": [],
   "source": [],
   "metadata": {
    "collapsed": false,
    "pycharm": {
     "name": "#%% SHould be selected as number mile and price\n"
    }
   }
  },
  {
   "cell_type": "markdown",
   "source": [
    "## carLocationState & carLocationCity"
   ],
   "metadata": {
    "collapsed": false,
    "pycharm": {
     "name": "#%% md\n"
    }
   }
  },
  {
   "cell_type": "code",
   "execution_count": 20,
   "outputs": [
    {
     "name": "stdout",
     "output_type": "stream",
     "text": [
      "[' OH' ' CA' ' ID' ' NC' ' PA' ' TX' ' GA' ' KY' ' CO' ' FL' ' SC' ' IN'\n",
      " ' UT' ' VA' ' NY' ' AR' ' MO' ' TN' ' MI' ' MA' ' WI' ' NJ' ' AZ' ' IA'\n",
      " ' MT' ' ND' ' IL' ' WA' ' OR' ' MN' ' OK' ' AL' ' NV' ' MD' ' MS' ' KS'\n",
      " ' AK' ' NM' ' CT' ' WY' ' LA' ' NE' ' SD' ' DE' ' RI' ' WV' ' HI' ' VT'\n",
      " ' NH' ' ME'] \n",
      "\n",
      " ['Columbus' 'Tracy' 'Boise' ... 'Rosedale' 'Farmington' 'Ellicott City']\n"
     ]
    }
   ],
   "source": [
    "print(df.carLocationState.unique(),\"\\n\"*2,\n",
    "      df.carLocationCity.unique())"
   ],
   "metadata": {
    "collapsed": false,
    "pycharm": {
     "name": "#%%\n"
    }
   }
  },
  {
   "cell_type": "code",
   "execution_count": 21,
   "outputs": [
    {
     "data": {
      "text/plain": " TX    2130\n CA    1433\n FL    1419\n NC     424\n NY     374\n GA     364\n NJ     335\n VA     311\n IL     264\n OH     264\n PA     244\n TN     232\n IN     228\n MI     191\n AZ     146\n WA     138\n MD     123\n MO     123\n CO     109\n MN      90\n MA      87\n SC      86\n WI      81\n AL      79\n KY      74\n IA      70\n OK      64\n OR      56\n NV      49\n ID      49\n CT      41\n AR      40\n NM      30\n LA      30\n UT      29\n KS      27\n NH      22\n MS      21\n NE      16\n MT      14\n WV      11\n SD      10\n ND       8\n WY       6\n AK       6\n ME       5\n RI       4\n HI       4\n DE       3\n VT       2\nName: carLocationState, dtype: int64"
     },
     "execution_count": 21,
     "metadata": {},
     "output_type": "execute_result"
    }
   ],
   "source": [
    "df.carLocationState.value_counts()"
   ],
   "metadata": {
    "collapsed": false,
    "pycharm": {
     "name": "#%%\n"
    }
   }
  },
  {
   "cell_type": "code",
   "execution_count": 22,
   "outputs": [
    {
     "data": {
      "text/plain": "<AxesSubplot:>"
     },
     "execution_count": 22,
     "metadata": {},
     "output_type": "execute_result"
    },
    {
     "data": {
      "text/plain": "<Figure size 432x288 with 1 Axes>",
      "image/png": "[encoded data removed]"
     },
     "metadata": {
      "needs_background": "light"
     },
     "output_type": "display_data"
    }
   ],
   "source": [
    "df.carLocationState.value_counts().plot()"
   ],
   "metadata": {
    "collapsed": false,
    "pycharm": {
     "name": "#%% TX    2090,  CA    1462,   FL    1384\n"
    }
   }
  },
  {
   "cell_type": "markdown",
   "source": [
    "## Car color"
   ],
   "metadata": {
    "collapsed": false,
    "pycharm": {
     "name": "#%% md\n"
    }
   }
  },
  {
   "cell_type": "code",
   "execution_count": 23,
   "outputs": [
    {
     "name": "stdout",
     "output_type": "stream",
     "text": [
      "['Black' 'Gray' 'Unknown' 'Brown' 'Beige' 'Blue' 'Red' 'White' 'Orange']\n",
      "['Silver' 'White' 'Red' 'Gray' 'Blue' 'Black' 'Unknown' 'Maroon' 'Brown'\n",
      " 'Purple' 'Gold' 'Tan' 'Green' 'Orange' 'Yellow']\n"
     ]
    }
   ],
   "source": [
    "print(df.carColorIn.unique())\n",
    "print(df.carColorEx.unique())"
   ],
   "metadata": {
    "collapsed": false,
    "pycharm": {
     "name": "#%% indoor unknow might be logic but out? why is unknown\n"
    }
   }
  },
  {
   "cell_type": "code",
   "execution_count": 24,
   "outputs": [
    {
     "name": "stdout",
     "output_type": "stream",
     "text": [
      "carColorIn\n",
      "Black      6374\n",
      "Gray       2142\n",
      "Unknown     691\n",
      "Beige       501\n",
      "Brown       186\n",
      "Red          41\n",
      "White        20\n",
      "Blue         10\n",
      "Orange        1\n",
      "Name: carColorIn, dtype: int64\n",
      "carColorEx\n",
      "White      3456\n",
      "Black      2787\n",
      "Gray       1573\n",
      "Silver     1103\n",
      "Red         523\n",
      "Blue        456\n",
      "Unknown      20\n",
      "Brown        16\n",
      "Gold         14\n",
      "Tan           7\n",
      "Green         5\n",
      "Maroon        3\n",
      "Purple        1\n",
      "Orange        1\n",
      "Yellow        1\n",
      "Name: carColorEx, dtype: int64\n"
     ]
    }
   ],
   "source": [
    "print(\"carColorIn\")\n",
    "print(df.carColorIn.value_counts())\n",
    "print(\"carColorEx\")\n",
    "print(df.carColorEx.value_counts())"
   ],
   "metadata": {
    "collapsed": false,
    "pycharm": {
     "name": "#%%\n"
    }
   }
  },
  {
   "cell_type": "markdown",
   "source": [
    "**which are Unknown out color?**<br/>\n",
    "I assumed Unknown indoor color to Black<br/>\n",
    "But for those data which they out color is not reported<br/>\n",
    "1- we can drop them <br/>\n",
    "2- collecting data again <br/>"
   ],
   "metadata": {
    "collapsed": false,
    "pycharm": {
     "name": "#%% md\n"
    }
   }
  },
  {
   "cell_type": "code",
   "execution_count": 25,
   "outputs": [
    {
     "data": {
      "text/plain": "                    carName     carCompany  carAge  \\\n555             Toyota RAV4         Toyota       4   \n583              Ford F-150           Ford       4   \n847             Toyota RAV4         Toyota       4   \n2009             Ford F-150           Ford       4   \n2938             Ford F-150           Ford       4   \n3253             Ford F-150           Ford       8   \n3257            Honda Civic          Honda       4   \n5575  Mercedes-Benz C-Class  Mercedes-Benz       4   \n5675  Ford Super Duty F-250           Ford       3   \n6521             Ford F-150           Ford       7   \n8009             Ford F-150           Ford       7   \n8053             Ford F-150           Ford       4   \n8453            Ford Fusion           Ford       6   \n8581             Ford F-150           Ford       4   \n8782            Ford Fiesta           Ford       3   \n9028             Ford F-150           Ford       7   \n9110          Ford Explorer           Ford       4   \n9294  Mercedes-Benz C-Class  Mercedes-Benz       4   \n9306             Ford F-150           Ford       4   \n9719            Ford Escape           Ford       9   \n\n                            carGear  carPrice  carMile carLocationCity  \\\n555                         XLE FWD     22495    39181   Daytona Beach   \n583      XLT SuperCrew 5.5' Box 4WD     34995    52254        Billings   \n847                         XLE FWD     20800    64115   Daytona Beach   \n2009     XLT SuperCrew 5.5' Box 4WD     31300    83909      Zionsville   \n2938     XLT SuperCrew 5.5' Box 4WD     33777    80679       Tallassee   \n3253     XLT SuperCrew 5.5' Box 4WD     17988   159403          Belton   \n3257                   LX Sedan CVT     16800    58582       Sunnyvale   \n5575                C 300 Sedan RWD     29736    30306        El Cajon   \n5675  Lariat 4WD Crew Cab 6.75' Box     54155    44057           Macon   \n6521  Lariat SuperCrew 5.5' Box 4WD     24788   166388          Belton   \n8009     XLT SuperCrew 5.5' Box 4WD     26500   108319       Lynchburg   \n8053     XLT SuperCrew 5.5' Box 4WD     34577    48295           Tampa   \n8453                         SE FWD     14000    81066         Norwalk   \n8581     XLT SuperCrew 5.5' Box 4WD     37962    33775         Pontiac   \n8782                       SE Sedan     15388    33815         Lubbock   \n9028  Lariat SuperCrew 5.5' Box 4WD     27995   125471       San Diego   \n9110                        XLT FWD     22902   110064          Shelby   \n9294                C 300 Sedan RWD     33225    23714         Fremont   \n9306      XLT SuperCab 6.5' Box 4WD     31477    41933       Anacortes   \n9719                         SE 4WD      5400   223243    Chambersburg   \n\n     carLocationState carColorEx carColorIn  carAccident carOwner  carUsage  \n555                FL    Unknown    Unknown            0        1  Personal  \n583                MT    Unknown    Unknown            0        2  Personal  \n847                FL    Unknown      Black            0        2  Personal  \n2009               IN    Unknown    Unknown            0        4  Personal  \n2938               AL    Unknown    Unknown            0        2  Personal  \n3253               TX    Unknown    Unknown            0        1  Personal  \n3257               CA    Unknown      Black            1        3  Personal  \n5575               CA    Unknown    Unknown            0        2  Personal  \n5675               GA    Unknown      Black            0        1  Personal  \n6521               TX    Unknown    Unknown            0        1  Personal  \n8009               VA    Unknown    Unknown            0        2  Personal  \n8053               FL    Unknown    Unknown            0        1  Personal  \n8453               OH    Unknown    Unknown            0        1  Personal  \n8581               IL    Unknown    Unknown            1        1  Personal  \n8782               TX    Unknown    Unknown            1        2     Fleet  \n9028               CA    Unknown      Black            0        1  Personal  \n9110               NC    Unknown    Unknown            0        1  Personal  \n9294               CA    Unknown      Black            0        2  Personal  \n9306               WA    Unknown       Gray            0        1  Personal  \n9719               PA    Unknown      Black            0        1  Personal  ",
      "text/html": "<div>\n<style scoped>\n    .dataframe tbody tr th:only-of-type {\n        vertical-align: middle;\n    }\n\n    .dataframe tbody tr th {\n        vertical-align: top;\n    }\n\n    .dataframe thead th {\n        text-align: right;\n    }\n</style>\n<table border=\"1\" class=\"dataframe\">\n  <thead>\n    <tr style=\"text-align: right;\">\n      <th></th>\n      <th>carName</th>\n      <th>carCompany</th>\n      <th>carAge</th>\n      <th>carGear</th>\n      <th>carPrice</th>\n      <th>carMile</th>\n      <th>carLocationCity</th>\n      <th>carLocationState</th>\n      <th>carColorEx</th>\n      <th>carColorIn</th>\n      <th>carAccident</th>\n      <th>carOwner</th>\n      <th>carUsage</th>\n    </tr>\n  </thead>\n  <tbody>\n    <tr>\n      <th>555</th>\n      <td>Toyota RAV4</td>\n      <td>Toyota</td>\n      <td>4</td>\n      <td>XLE FWD</td>\n      <td>22495</td>\n      <td>39181</td>\n      <td>Daytona Beach</td>\n      <td>FL</td>\n      <td>Unknown</td>\n      <td>Unknown</td>\n      <td>0</td>\n      <td>1</td>\n      <td>Personal</td>\n    </tr>\n    <tr>\n      <th>583</th>\n      <td>Ford F-150</td>\n      <td>Ford</td>\n      <td>4</td>\n      <td>XLT SuperCrew 5.5' Box 4WD</td>\n      <td>34995</td>\n      <td>52254</td>\n      <td>Billings</td>\n      <td>MT</td>\n      <td>Unknown</td>\n      <td>Unknown</td>\n      <td>0</td>\n      <td>2</td>\n      <td>Personal</td>\n    </tr>\n    <tr>\n      <th>847</th>\n      <td>Toyota RAV4</td>\n      <td>Toyota</td>\n      <td>4</td>\n      <td>XLE FWD</td>\n      <td>20800</td>\n      <td>64115</td>\n      <td>Daytona Beach</td>\n      <td>FL</td>\n      <td>Unknown</td>\n      <td>Black</td>\n      <td>0</td>\n      <td>2</td>\n      <td>Personal</td>\n    </tr>\n    <tr>\n      <th>2009</th>\n      <td>Ford F-150</td>\n      <td>Ford</td>\n      <td>4</td>\n      <td>XLT SuperCrew 5.5' Box 4WD</td>\n      <td>31300</td>\n      <td>83909</td>\n      <td>Zionsville</td>\n      <td>IN</td>\n      <td>Unknown</td>\n      <td>Unknown</td>\n      <td>0</td>\n      <td>4</td>\n      <td>Personal</td>\n    </tr>\n    <tr>\n      <th>2938</th>\n      <td>Ford F-150</td>\n      <td>Ford</td>\n      <td>4</td>\n      <td>XLT SuperCrew 5.5' Box 4WD</td>\n      <td>33777</td>\n      <td>80679</td>\n      <td>Tallassee</td>\n      <td>AL</td>\n      <td>Unknown</td>\n      <td>Unknown</td>\n      <td>0</td>\n      <td>2</td>\n      <td>Personal</td>\n    </tr>\n    <tr>\n      <th>3253</th>\n      <td>Ford F-150</td>\n      <td>Ford</td>\n      <td>8</td>\n      <td>XLT SuperCrew 5.5' Box 4WD</td>\n      <td>17988</td>\n      <td>159403</td>\n      <td>Belton</td>\n      <td>TX</td>\n      <td>Unknown</td>\n      <td>Unknown</td>\n      <td>0</td>\n      <td>1</td>\n      <td>Personal</td>\n    </tr>\n    <tr>\n      <th>3257</th>\n      <td>Honda Civic</td>\n      <td>Honda</td>\n      <td>4</td>\n      <td>LX Sedan CVT</td>\n      <td>16800</td>\n      <td>58582</td>\n      <td>Sunnyvale</td>\n      <td>CA</td>\n      <td>Unknown</td>\n      <td>Black</td>\n      <td>1</td>\n      <td>3</td>\n      <td>Personal</td>\n    </tr>\n    <tr>\n      <th>5575</th>\n      <td>Mercedes-Benz C-Class</td>\n      <td>Mercedes-Benz</td>\n      <td>4</td>\n      <td>C 300 Sedan RWD</td>\n      <td>29736</td>\n      <td>30306</td>\n      <td>El Cajon</td>\n      <td>CA</td>\n      <td>Unknown</td>\n      <td>Unknown</td>\n      <td>0</td>\n      <td>2</td>\n      <td>Personal</td>\n    </tr>\n    <tr>\n      <th>5675</th>\n      <td>Ford Super Duty F-250</td>\n      <td>Ford</td>\n      <td>3</td>\n      <td>Lariat 4WD Crew Cab 6.75' Box</td>\n      <td>54155</td>\n      <td>44057</td>\n      <td>Macon</td>\n      <td>GA</td>\n      <td>Unknown</td>\n      <td>Black</td>\n      <td>0</td>\n      <td>1</td>\n      <td>Personal</td>\n    </tr>\n    <tr>\n      <th>6521</th>\n      <td>Ford F-150</td>\n      <td>Ford</td>\n      <td>7</td>\n      <td>Lariat SuperCrew 5.5' Box 4WD</td>\n      <td>24788</td>\n      <td>166388</td>\n      <td>Belton</td>\n      <td>TX</td>\n      <td>Unknown</td>\n      <td>Unknown</td>\n      <td>0</td>\n      <td>1</td>\n      <td>Personal</td>\n    </tr>\n    <tr>\n      <th>8009</th>\n      <td>Ford F-150</td>\n      <td>Ford</td>\n      <td>7</td>\n      <td>XLT SuperCrew 5.5' Box 4WD</td>\n      <td>26500</td>\n      <td>108319</td>\n      <td>Lynchburg</td>\n      <td>VA</td>\n      <td>Unknown</td>\n      <td>Unknown</td>\n      <td>0</td>\n      <td>2</td>\n      <td>Personal</td>\n    </tr>\n    <tr>\n      <th>8053</th>\n      <td>Ford F-150</td>\n      <td>Ford</td>\n      <td>4</td>\n      <td>XLT SuperCrew 5.5' Box 4WD</td>\n      <td>34577</td>\n      <td>48295</td>\n      <td>Tampa</td>\n      <td>FL</td>\n      <td>Unknown</td>\n      <td>Unknown</td>\n      <td>0</td>\n      <td>1</td>\n      <td>Personal</td>\n    </tr>\n    <tr>\n      <th>8453</th>\n      <td>Ford Fusion</td>\n      <td>Ford</td>\n      <td>6</td>\n      <td>SE FWD</td>\n      <td>14000</td>\n      <td>81066</td>\n      <td>Norwalk</td>\n      <td>OH</td>\n      <td>Unknown</td>\n      <td>Unknown</td>\n      <td>0</td>\n      <td>1</td>\n      <td>Personal</td>\n    </tr>\n    <tr>\n      <th>8581</th>\n      <td>Ford F-150</td>\n      <td>Ford</td>\n      <td>4</td>\n      <td>XLT SuperCrew 5.5' Box 4WD</td>\n      <td>37962</td>\n      <td>33775</td>\n      <td>Pontiac</td>\n      <td>IL</td>\n      <td>Unknown</td>\n      <td>Unknown</td>\n      <td>1</td>\n      <td>1</td>\n      <td>Personal</td>\n    </tr>\n    <tr>\n      <th>8782</th>\n      <td>Ford Fiesta</td>\n      <td>Ford</td>\n      <td>3</td>\n      <td>SE Sedan</td>\n      <td>15388</td>\n      <td>33815</td>\n      <td>Lubbock</td>\n      <td>TX</td>\n      <td>Unknown</td>\n      <td>Unknown</td>\n      <td>1</td>\n      <td>2</td>\n      <td>Fleet</td>\n    </tr>\n    <tr>\n      <th>9028</th>\n      <td>Ford F-150</td>\n      <td>Ford</td>\n      <td>7</td>\n      <td>Lariat SuperCrew 5.5' Box 4WD</td>\n      <td>27995</td>\n      <td>125471</td>\n      <td>San Diego</td>\n      <td>CA</td>\n      <td>Unknown</td>\n      <td>Black</td>\n      <td>0</td>\n      <td>1</td>\n      <td>Personal</td>\n    </tr>\n    <tr>\n      <th>9110</th>\n      <td>Ford Explorer</td>\n      <td>Ford</td>\n      <td>4</td>\n      <td>XLT FWD</td>\n      <td>22902</td>\n      <td>110064</td>\n      <td>Shelby</td>\n      <td>NC</td>\n      <td>Unknown</td>\n      <td>Unknown</td>\n      <td>0</td>\n      <td>1</td>\n      <td>Personal</td>\n    </tr>\n    <tr>\n      <th>9294</th>\n      <td>Mercedes-Benz C-Class</td>\n      <td>Mercedes-Benz</td>\n      <td>4</td>\n      <td>C 300 Sedan RWD</td>\n      <td>33225</td>\n      <td>23714</td>\n      <td>Fremont</td>\n      <td>CA</td>\n      <td>Unknown</td>\n      <td>Black</td>\n      <td>0</td>\n      <td>2</td>\n      <td>Personal</td>\n    </tr>\n    <tr>\n      <th>9306</th>\n      <td>Ford F-150</td>\n      <td>Ford</td>\n      <td>4</td>\n      <td>XLT SuperCab 6.5' Box 4WD</td>\n      <td>31477</td>\n      <td>41933</td>\n      <td>Anacortes</td>\n      <td>WA</td>\n      <td>Unknown</td>\n      <td>Gray</td>\n      <td>0</td>\n      <td>1</td>\n      <td>Personal</td>\n    </tr>\n    <tr>\n      <th>9719</th>\n      <td>Ford Escape</td>\n      <td>Ford</td>\n      <td>9</td>\n      <td>SE 4WD</td>\n      <td>5400</td>\n      <td>223243</td>\n      <td>Chambersburg</td>\n      <td>PA</td>\n      <td>Unknown</td>\n      <td>Black</td>\n      <td>0</td>\n      <td>1</td>\n      <td>Personal</td>\n    </tr>\n  </tbody>\n</table>\n</div>"
     },
     "execution_count": 25,
     "metadata": {},
     "output_type": "execute_result"
    }
   ],
   "source": [
    "df.loc[df['carColorEx'] == \"Unknown\"]"
   ],
   "metadata": {
    "collapsed": false,
    "pycharm": {
     "name": "#%%\n"
    }
   }
  },
  {
   "cell_type": "code",
   "execution_count": 26,
   "outputs": [],
   "source": [
    "df['carColorIn'].replace({\"Unknown\":\"Black\"}, inplace=True)"
   ],
   "metadata": {
    "collapsed": false,
    "pycharm": {
     "name": "#%%\n"
    }
   }
  },
  {
   "cell_type": "code",
   "execution_count": 27,
   "outputs": [
    {
     "data": {
      "text/plain": "Int64Index([ 555,  583,  847, 2009, 2938, 3253, 3257, 5575, 5675, 6521, 8009,\n            8053, 8453, 8581, 8782, 9028, 9110, 9294, 9306, 9719],\n           dtype='int64')"
     },
     "execution_count": 27,
     "metadata": {},
     "output_type": "execute_result"
    }
   ],
   "source": [
    "df.loc[df.carColorEx == 'Unknown'].index"
   ],
   "metadata": {
    "collapsed": false,
    "pycharm": {
     "name": "#%%\n"
    }
   }
  },
  {
   "cell_type": "code",
   "execution_count": 28,
   "outputs": [
    {
     "data": {
      "text/plain": "array([ 555,  583,  847, 2009, 2938, 3253, 3257, 5575, 5675, 6521, 8009,\n       8053, 8453, 8581, 8782, 9028, 9110, 9294, 9306, 9719], dtype=int64)"
     },
     "execution_count": 28,
     "metadata": {},
     "output_type": "execute_result"
    }
   ],
   "source": [
    "unknownCarColorEx = df[df['carColorEx'] == 'Unknown'].index.to_numpy()\n",
    "unknownCarColorEx"
   ],
   "metadata": {
    "collapsed": false,
    "pycharm": {
     "name": "#%%\n"
    }
   }
  },
  {
   "cell_type": "markdown",
   "source": [
    "**How to drop specific rows:** <br>\n",
    "df.drop('c') --c is index <br/>\n",
    "update_df = df.drop([df.index[1], df.index[2]])"
   ],
   "metadata": {
    "collapsed": false,
    "pycharm": {
     "name": "#%% md\n"
    }
   }
  },
  {
   "cell_type": "code",
   "execution_count": 29,
   "outputs": [],
   "source": [
    "dfNew = df.drop(unknownCarColorEx)"
   ],
   "metadata": {
    "collapsed": false,
    "pycharm": {
     "name": "#%%\n"
    }
   }
  },
  {
   "cell_type": "code",
   "execution_count": 30,
   "outputs": [
    {
     "name": "stdout",
     "output_type": "stream",
     "text": [
      "carColorIn\n",
      "Black     7046\n",
      "Gray      2141\n",
      "Beige      501\n",
      "Brown      186\n",
      "Red         41\n",
      "White       20\n",
      "Blue        10\n",
      "Orange       1\n",
      "Name: carColorIn, dtype: int64\n",
      "carColorEx\n",
      "White     3456\n",
      "Black     2787\n",
      "Gray      1573\n",
      "Silver    1103\n",
      "Red        523\n",
      "Blue       456\n",
      "Brown       16\n",
      "Gold        14\n",
      "Tan          7\n",
      "Green        5\n",
      "Maroon       3\n",
      "Purple       1\n",
      "Orange       1\n",
      "Yellow       1\n",
      "Name: carColorEx, dtype: int64\n"
     ]
    }
   ],
   "source": [
    "print(\"carColorIn\")\n",
    "print(dfNew.carColorIn.value_counts())\n",
    "print(\"carColorEx\")\n",
    "print(dfNew.carColorEx.value_counts())"
   ],
   "metadata": {
    "collapsed": false,
    "pycharm": {
     "name": "#%% check the progress\n"
    }
   }
  },
  {
   "cell_type": "markdown",
   "source": [
    "## Car carAccident\n",
    "in here, have to go deep, what is difference between 4 accident and\n",
    "more accident how many prices are different"
   ],
   "metadata": {
    "collapsed": false,
    "pycharm": {
     "name": "#%% md\n"
    }
   }
  },
  {
   "cell_type": "code",
   "execution_count": 31,
   "outputs": [
    {
     "data": {
      "text/plain": "0    8506\n1    1258\n2     160\n3      18\n4       3\n5       1\nName: carAccident, dtype: int64"
     },
     "execution_count": 31,
     "metadata": {},
     "output_type": "execute_result"
    }
   ],
   "source": [
    "dfNew.carAccident.value_counts()"
   ],
   "metadata": {
    "collapsed": false,
    "pycharm": {
     "name": "#%%\n"
    }
   }
  },
  {
   "cell_type": "code",
   "execution_count": 32,
   "outputs": [
    {
     "data": {
      "text/plain": "               carName carCompany  carAge                    carGear  \\\n2722     Jaguar S-TYPE     Jaguar      14                       3.0L   \n2992  Chevrolet Camaro  Chevrolet       7          LS with 2LS Coupe   \n8633        Ford F-150       Ford      13  FX4 SuperCab 6.5' Box 4WD   \n\n      carPrice  carMile   carLocationCity carLocationState carColorEx  \\\n2722      5995   148521             Miami               FL      White   \n2992     14996    82601        Palm Coast               FL      Black   \n8633      8995   146907  Sterling Heights               MI        Red   \n\n     carColorIn  carAccident carOwner  carUsage  \n2722      Black            4        1  Personal  \n2992      Black            4        2  Personal  \n8633      Black            4        1  Personal  ",
      "text/html": "<div>\n<style scoped>\n    .dataframe tbody tr th:only-of-type {\n        vertical-align: middle;\n    }\n\n    .dataframe tbody tr th {\n        vertical-align: top;\n    }\n\n    .dataframe thead th {\n        text-align: right;\n    }\n</style>\n<table border=\"1\" class=\"dataframe\">\n  <thead>\n    <tr style=\"text-align: right;\">\n      <th></th>\n      <th>carName</th>\n      <th>carCompany</th>\n      <th>carAge</th>\n      <th>carGear</th>\n      <th>carPrice</th>\n      <th>carMile</th>\n      <th>carLocationCity</th>\n      <th>carLocationState</th>\n      <th>carColorEx</th>\n      <th>carColorIn</th>\n      <th>carAccident</th>\n      <th>carOwner</th>\n      <th>carUsage</th>\n    </tr>\n  </thead>\n  <tbody>\n    <tr>\n      <th>2722</th>\n      <td>Jaguar S-TYPE</td>\n      <td>Jaguar</td>\n      <td>14</td>\n      <td>3.0L</td>\n      <td>5995</td>\n      <td>148521</td>\n      <td>Miami</td>\n      <td>FL</td>\n      <td>White</td>\n      <td>Black</td>\n      <td>4</td>\n      <td>1</td>\n      <td>Personal</td>\n    </tr>\n    <tr>\n      <th>2992</th>\n      <td>Chevrolet Camaro</td>\n      <td>Chevrolet</td>\n      <td>7</td>\n      <td>LS with 2LS Coupe</td>\n      <td>14996</td>\n      <td>82601</td>\n      <td>Palm Coast</td>\n      <td>FL</td>\n      <td>Black</td>\n      <td>Black</td>\n      <td>4</td>\n      <td>2</td>\n      <td>Personal</td>\n    </tr>\n    <tr>\n      <th>8633</th>\n      <td>Ford F-150</td>\n      <td>Ford</td>\n      <td>13</td>\n      <td>FX4 SuperCab 6.5' Box 4WD</td>\n      <td>8995</td>\n      <td>146907</td>\n      <td>Sterling Heights</td>\n      <td>MI</td>\n      <td>Red</td>\n      <td>Black</td>\n      <td>4</td>\n      <td>1</td>\n      <td>Personal</td>\n    </tr>\n  </tbody>\n</table>\n</div>"
     },
     "execution_count": 32,
     "metadata": {},
     "output_type": "execute_result"
    }
   ],
   "source": [
    "dfNew.loc[df[\"carAccident\"] == 4]"
   ],
   "metadata": {
    "collapsed": false,
    "pycharm": {
     "name": "#%%\n"
    }
   }
  },
  {
   "cell_type": "code",
   "execution_count": 33,
   "outputs": [
    {
     "name": "stdout",
     "output_type": "stream",
     "text": [
      "4     4083\n",
      "3     2696\n",
      "2      981\n",
      "5      776\n",
      "6      429\n",
      "7      386\n",
      "8      249\n",
      "9      155\n",
      "10      42\n",
      "1       41\n",
      "11      22\n",
      "12      16\n",
      "15      13\n",
      "14      12\n",
      "16      12\n",
      "13       7\n",
      "19       7\n",
      "18       5\n",
      "23       3\n",
      "24       3\n",
      "17       2\n",
      "22       2\n",
      "25       2\n",
      "21       1\n",
      "20       1\n",
      "Name: carAge, dtype: int64 count    9946.000000\n",
      "mean        4.122160\n",
      "std         1.918358\n",
      "min         1.000000\n",
      "25%         3.000000\n",
      "50%         4.000000\n",
      "75%         4.000000\n",
      "max        25.000000\n",
      "Name: carAge, dtype: float64\n"
     ]
    }
   ],
   "source": [
    "print(dfNew.carAge.value_counts(),\n",
    "      dfNew.carAge.describe())"
   ],
   "metadata": {
    "collapsed": false,
    "pycharm": {
     "name": "#%%\n"
    }
   }
  },
  {
   "cell_type": "code",
   "execution_count": 34,
   "outputs": [
    {
     "data": {
      "text/plain": "               carName carCompany  carAge            carGear  carPrice  \\\n1005  Chevrolet Camaro  Chevrolet       5  LT with 1LT Coupe     23901   \n1490  Chevrolet Camaro  Chevrolet       8  LT with 1LT Coupe     14995   \n1755  Chevrolet Camaro  Chevrolet       4  LT with 1LT Coupe     24900   \n2730  Chevrolet Camaro  Chevrolet       7  LT with 1LT Coupe     14999   \n2992  Chevrolet Camaro  Chevrolet       7  LS with 2LS Coupe     14996   \n3619  Chevrolet Camaro  Chevrolet      12  SS with 2SS Coupe     25498   \n5634  Chevrolet Camaro  Chevrolet       5  LT with 1LT Coupe     24000   \n5776  Chevrolet Camaro  Chevrolet       4  LT with 1LT Coupe     18999   \n5945  Chevrolet Camaro  Chevrolet       4  LT with 1LT Coupe     23488   \n5946  Chevrolet Camaro  Chevrolet       7         Z/28 Coupe     54999   \n6607  Chevrolet Camaro  Chevrolet       4  SS with 1SS Coupe     37995   \n6748  Chevrolet Camaro  Chevrolet       4  LT with 1LT Coupe     19991   \n7259  Chevrolet Camaro  Chevrolet       4  LT with 1LT Coupe     26498   \n7718  Chevrolet Camaro  Chevrolet       6  LT with 1LT Coupe     22650   \n7737  Chevrolet Camaro  Chevrolet       3  LT with 1LT Coupe     30000   \n7853  Chevrolet Camaro  Chevrolet       4  LT with 1LT Coupe     26021   \n7931  Chevrolet Camaro  Chevrolet      11  LT with 1LT Coupe      9599   \n8175  Chevrolet Camaro  Chevrolet       5  SS with 2SS Coupe     35988   \n8761  Chevrolet Camaro  Chevrolet       4  LT with 1LT Coupe     24900   \n8884  Chevrolet Camaro  Chevrolet       3  LT with 1LT Coupe     28995   \n9045  Chevrolet Camaro  Chevrolet       5  LT with 1LT Coupe     19755   \n9179  Chevrolet Camaro  Chevrolet       5  LT with 1LT Coupe     17800   \n9345  Chevrolet Camaro  Chevrolet       7  LS with 1LS Coupe     14989   \n9416  Chevrolet Camaro  Chevrolet       5  LT with 1LT Coupe     21688   \n\n      carMile   carLocationCity carLocationState carColorEx carColorIn  \\\n1005    77393    Corpus Christi               TX      White      Black   \n1490    61376          Leesburg               FL     Silver      Black   \n1755    50225           El Paso               TX      Black       Gray   \n2730    65076           Houston               TX       Blue      Black   \n2992    82601        Palm Coast               FL      Black      Black   \n3619     7386       San Antonio               TX      Black      Black   \n5634    65811       San Antonio               TX      White      Black   \n5776    37680  Lighthouse Point               FL      White      Black   \n5945    91866           Denison               TX      White      Black   \n5946    13332           Webster               TX      Black      Black   \n6607    35980            Fresno               CA      White      Black   \n6748   118782          Valencia               CA      White      Black   \n7259    44042        Northridge               CA      White      Black   \n7718    57879           La Mesa               CA     Silver      Black   \n7737     5067         Grapevine               TX      White      Black   \n7853    64341           Tomball               TX      White      Black   \n7931   112368           Houston               TX      Black      Black   \n8175    43959           Hayward               CA      White        Red   \n8761    48036       San Antonio               TX        Red       Gray   \n8884    29438         Harlingen               TX       Gray      Black   \n9045    87748       Victorville               CA       Blue      Black   \n9179   119399            Muncie               IN     Silver      Black   \n9345    70400     Mission Hills               CA      Black      Black   \n9416    77482         Placentia               CA      White      Black   \n\n      carAccident carOwner  carUsage  \n1005            1        1  Personal  \n1490            1        2  Personal  \n1755            0        1  Personal  \n2730            1        3  Personal  \n2992            4        2  Personal  \n3619            0        1  Personal  \n5634            0        1  Personal  \n5776            1        5     Fleet  \n5945            0        1  Personal  \n5946            0        1  Personal  \n6607            0        1  Personal  \n6748            1        1  Personal  \n7259            0        1  Personal  \n7718            0        2     Fleet  \n7737            0        1  Personal  \n7853            0        1  Personal  \n7931            0        1  Personal  \n8175            0        3  Personal  \n8761            1        1  Personal  \n8884            0        1  Personal  \n9045            1        1  Personal  \n9179            1        3  Personal  \n9345            0        4     Fleet  \n9416            0        3  Personal  ",
      "text/html": "<div>\n<style scoped>\n    .dataframe tbody tr th:only-of-type {\n        vertical-align: middle;\n    }\n\n    .dataframe tbody tr th {\n        vertical-align: top;\n    }\n\n    .dataframe thead th {\n        text-align: right;\n    }\n</style>\n<table border=\"1\" class=\"dataframe\">\n  <thead>\n    <tr style=\"text-align: right;\">\n      <th></th>\n      <th>carName</th>\n      <th>carCompany</th>\n      <th>carAge</th>\n      <th>carGear</th>\n      <th>carPrice</th>\n      <th>carMile</th>\n      <th>carLocationCity</th>\n      <th>carLocationState</th>\n      <th>carColorEx</th>\n      <th>carColorIn</th>\n      <th>carAccident</th>\n      <th>carOwner</th>\n      <th>carUsage</th>\n    </tr>\n  </thead>\n  <tbody>\n    <tr>\n      <th>1005</th>\n      <td>Chevrolet Camaro</td>\n      <td>Chevrolet</td>\n      <td>5</td>\n      <td>LT with 1LT Coupe</td>\n      <td>23901</td>\n      <td>77393</td>\n      <td>Corpus Christi</td>\n      <td>TX</td>\n      <td>White</td>\n      <td>Black</td>\n      <td>1</td>\n      <td>1</td>\n      <td>Personal</td>\n    </tr>\n    <tr>\n      <th>1490</th>\n      <td>Chevrolet Camaro</td>\n      <td>Chevrolet</td>\n      <td>8</td>\n      <td>LT with 1LT Coupe</td>\n      <td>14995</td>\n      <td>61376</td>\n      <td>Leesburg</td>\n      <td>FL</td>\n      <td>Silver</td>\n      <td>Black</td>\n      <td>1</td>\n      <td>2</td>\n      <td>Personal</td>\n    </tr>\n    <tr>\n      <th>1755</th>\n      <td>Chevrolet Camaro</td>\n      <td>Chevrolet</td>\n      <td>4</td>\n      <td>LT with 1LT Coupe</td>\n      <td>24900</td>\n      <td>50225</td>\n      <td>El Paso</td>\n      <td>TX</td>\n      <td>Black</td>\n      <td>Gray</td>\n      <td>0</td>\n      <td>1</td>\n      <td>Personal</td>\n    </tr>\n    <tr>\n      <th>2730</th>\n      <td>Chevrolet Camaro</td>\n      <td>Chevrolet</td>\n      <td>7</td>\n      <td>LT with 1LT Coupe</td>\n      <td>14999</td>\n      <td>65076</td>\n      <td>Houston</td>\n      <td>TX</td>\n      <td>Blue</td>\n      <td>Black</td>\n      <td>1</td>\n      <td>3</td>\n      <td>Personal</td>\n    </tr>\n    <tr>\n      <th>2992</th>\n      <td>Chevrolet Camaro</td>\n      <td>Chevrolet</td>\n      <td>7</td>\n      <td>LS with 2LS Coupe</td>\n      <td>14996</td>\n      <td>82601</td>\n      <td>Palm Coast</td>\n      <td>FL</td>\n      <td>Black</td>\n      <td>Black</td>\n      <td>4</td>\n      <td>2</td>\n      <td>Personal</td>\n    </tr>\n    <tr>\n      <th>3619</th>\n      <td>Chevrolet Camaro</td>\n      <td>Chevrolet</td>\n      <td>12</td>\n      <td>SS with 2SS Coupe</td>\n      <td>25498</td>\n      <td>7386</td>\n      <td>San Antonio</td>\n      <td>TX</td>\n      <td>Black</td>\n      <td>Black</td>\n      <td>0</td>\n      <td>1</td>\n      <td>Personal</td>\n    </tr>\n    <tr>\n      <th>5634</th>\n      <td>Chevrolet Camaro</td>\n      <td>Chevrolet</td>\n      <td>5</td>\n      <td>LT with 1LT Coupe</td>\n      <td>24000</td>\n      <td>65811</td>\n      <td>San Antonio</td>\n      <td>TX</td>\n      <td>White</td>\n      <td>Black</td>\n      <td>0</td>\n      <td>1</td>\n      <td>Personal</td>\n    </tr>\n    <tr>\n      <th>5776</th>\n      <td>Chevrolet Camaro</td>\n      <td>Chevrolet</td>\n      <td>4</td>\n      <td>LT with 1LT Coupe</td>\n      <td>18999</td>\n      <td>37680</td>\n      <td>Lighthouse Point</td>\n      <td>FL</td>\n      <td>White</td>\n      <td>Black</td>\n      <td>1</td>\n      <td>5</td>\n      <td>Fleet</td>\n    </tr>\n    <tr>\n      <th>5945</th>\n      <td>Chevrolet Camaro</td>\n      <td>Chevrolet</td>\n      <td>4</td>\n      <td>LT with 1LT Coupe</td>\n      <td>23488</td>\n      <td>91866</td>\n      <td>Denison</td>\n      <td>TX</td>\n      <td>White</td>\n      <td>Black</td>\n      <td>0</td>\n      <td>1</td>\n      <td>Personal</td>\n    </tr>\n    <tr>\n      <th>5946</th>\n      <td>Chevrolet Camaro</td>\n      <td>Chevrolet</td>\n      <td>7</td>\n      <td>Z/28 Coupe</td>\n      <td>54999</td>\n      <td>13332</td>\n      <td>Webster</td>\n      <td>TX</td>\n      <td>Black</td>\n      <td>Black</td>\n      <td>0</td>\n      <td>1</td>\n      <td>Personal</td>\n    </tr>\n    <tr>\n      <th>6607</th>\n      <td>Chevrolet Camaro</td>\n      <td>Chevrolet</td>\n      <td>4</td>\n      <td>SS with 1SS Coupe</td>\n      <td>37995</td>\n      <td>35980</td>\n      <td>Fresno</td>\n      <td>CA</td>\n      <td>White</td>\n      <td>Black</td>\n      <td>0</td>\n      <td>1</td>\n      <td>Personal</td>\n    </tr>\n    <tr>\n      <th>6748</th>\n      <td>Chevrolet Camaro</td>\n      <td>Chevrolet</td>\n      <td>4</td>\n      <td>LT with 1LT Coupe</td>\n      <td>19991</td>\n      <td>118782</td>\n      <td>Valencia</td>\n      <td>CA</td>\n      <td>White</td>\n      <td>Black</td>\n      <td>1</td>\n      <td>1</td>\n      <td>Personal</td>\n    </tr>\n    <tr>\n      <th>7259</th>\n      <td>Chevrolet Camaro</td>\n      <td>Chevrolet</td>\n      <td>4</td>\n      <td>LT with 1LT Coupe</td>\n      <td>26498</td>\n      <td>44042</td>\n      <td>Northridge</td>\n      <td>CA</td>\n      <td>White</td>\n      <td>Black</td>\n      <td>0</td>\n      <td>1</td>\n      <td>Personal</td>\n    </tr>\n    <tr>\n      <th>7718</th>\n      <td>Chevrolet Camaro</td>\n      <td>Chevrolet</td>\n      <td>6</td>\n      <td>LT with 1LT Coupe</td>\n      <td>22650</td>\n      <td>57879</td>\n      <td>La Mesa</td>\n      <td>CA</td>\n      <td>Silver</td>\n      <td>Black</td>\n      <td>0</td>\n      <td>2</td>\n      <td>Fleet</td>\n    </tr>\n    <tr>\n      <th>7737</th>\n      <td>Chevrolet Camaro</td>\n      <td>Chevrolet</td>\n      <td>3</td>\n      <td>LT with 1LT Coupe</td>\n      <td>30000</td>\n      <td>5067</td>\n      <td>Grapevine</td>\n      <td>TX</td>\n      <td>White</td>\n      <td>Black</td>\n      <td>0</td>\n      <td>1</td>\n      <td>Personal</td>\n    </tr>\n    <tr>\n      <th>7853</th>\n      <td>Chevrolet Camaro</td>\n      <td>Chevrolet</td>\n      <td>4</td>\n      <td>LT with 1LT Coupe</td>\n      <td>26021</td>\n      <td>64341</td>\n      <td>Tomball</td>\n      <td>TX</td>\n      <td>White</td>\n      <td>Black</td>\n      <td>0</td>\n      <td>1</td>\n      <td>Personal</td>\n    </tr>\n    <tr>\n      <th>7931</th>\n      <td>Chevrolet Camaro</td>\n      <td>Chevrolet</td>\n      <td>11</td>\n      <td>LT with 1LT Coupe</td>\n      <td>9599</td>\n      <td>112368</td>\n      <td>Houston</td>\n      <td>TX</td>\n      <td>Black</td>\n      <td>Black</td>\n      <td>0</td>\n      <td>1</td>\n      <td>Personal</td>\n    </tr>\n    <tr>\n      <th>8175</th>\n      <td>Chevrolet Camaro</td>\n      <td>Chevrolet</td>\n      <td>5</td>\n      <td>SS with 2SS Coupe</td>\n      <td>35988</td>\n      <td>43959</td>\n      <td>Hayward</td>\n      <td>CA</td>\n      <td>White</td>\n      <td>Red</td>\n      <td>0</td>\n      <td>3</td>\n      <td>Personal</td>\n    </tr>\n    <tr>\n      <th>8761</th>\n      <td>Chevrolet Camaro</td>\n      <td>Chevrolet</td>\n      <td>4</td>\n      <td>LT with 1LT Coupe</td>\n      <td>24900</td>\n      <td>48036</td>\n      <td>San Antonio</td>\n      <td>TX</td>\n      <td>Red</td>\n      <td>Gray</td>\n      <td>1</td>\n      <td>1</td>\n      <td>Personal</td>\n    </tr>\n    <tr>\n      <th>8884</th>\n      <td>Chevrolet Camaro</td>\n      <td>Chevrolet</td>\n      <td>3</td>\n      <td>LT with 1LT Coupe</td>\n      <td>28995</td>\n      <td>29438</td>\n      <td>Harlingen</td>\n      <td>TX</td>\n      <td>Gray</td>\n      <td>Black</td>\n      <td>0</td>\n      <td>1</td>\n      <td>Personal</td>\n    </tr>\n    <tr>\n      <th>9045</th>\n      <td>Chevrolet Camaro</td>\n      <td>Chevrolet</td>\n      <td>5</td>\n      <td>LT with 1LT Coupe</td>\n      <td>19755</td>\n      <td>87748</td>\n      <td>Victorville</td>\n      <td>CA</td>\n      <td>Blue</td>\n      <td>Black</td>\n      <td>1</td>\n      <td>1</td>\n      <td>Personal</td>\n    </tr>\n    <tr>\n      <th>9179</th>\n      <td>Chevrolet Camaro</td>\n      <td>Chevrolet</td>\n      <td>5</td>\n      <td>LT with 1LT Coupe</td>\n      <td>17800</td>\n      <td>119399</td>\n      <td>Muncie</td>\n      <td>IN</td>\n      <td>Silver</td>\n      <td>Black</td>\n      <td>1</td>\n      <td>3</td>\n      <td>Personal</td>\n    </tr>\n    <tr>\n      <th>9345</th>\n      <td>Chevrolet Camaro</td>\n      <td>Chevrolet</td>\n      <td>7</td>\n      <td>LS with 1LS Coupe</td>\n      <td>14989</td>\n      <td>70400</td>\n      <td>Mission Hills</td>\n      <td>CA</td>\n      <td>Black</td>\n      <td>Black</td>\n      <td>0</td>\n      <td>4</td>\n      <td>Fleet</td>\n    </tr>\n    <tr>\n      <th>9416</th>\n      <td>Chevrolet Camaro</td>\n      <td>Chevrolet</td>\n      <td>5</td>\n      <td>LT with 1LT Coupe</td>\n      <td>21688</td>\n      <td>77482</td>\n      <td>Placentia</td>\n      <td>CA</td>\n      <td>White</td>\n      <td>Black</td>\n      <td>0</td>\n      <td>3</td>\n      <td>Personal</td>\n    </tr>\n  </tbody>\n</table>\n</div>"
     },
     "execution_count": 34,
     "metadata": {},
     "output_type": "execute_result"
    }
   ],
   "source": [
    "dfNew[dfNew[\"carName\"] == \"Chevrolet Camaro\"]"
   ],
   "metadata": {
    "collapsed": false,
    "pycharm": {
     "name": "#%% it was logical\n"
    }
   }
  },
  {
   "cell_type": "code",
   "execution_count": 35,
   "outputs": [],
   "source": [
    "selectedDf= dfNew[dfNew[\"carName\"] == \"Ford F-150\"]"
   ],
   "metadata": {
    "collapsed": false,
    "pycharm": {
     "name": "#%%\n"
    }
   }
  },
  {
   "cell_type": "code",
   "execution_count": 36,
   "outputs": [
    {
     "data": {
      "text/plain": "         carName carCompany  carAge                            carGear  \\\n1406  Ford F-150       Ford      11      Lariat SuperCrew 5.5' Box 4WD   \n2649  Ford F-150       Ford      11  King Ranch SuperCrew 5.5' Box 2WD   \n3693  Ford F-150       Ford      11         XLT SuperCrew 5.5' Box 4WD   \n5277  Ford F-150       Ford      11         XLT SuperCrew 5.5' Box 4WD   \n5315  Ford F-150       Ford      11          XL SuperCrew 5.5' Box 4WD   \n6287  Ford F-150       Ford      12          XL SuperCrew 5.5' Box 4WD   \n7523  Ford F-150       Ford      12         FX4 SuperCrew 5.5' Box 4WD   \n8497  Ford F-150       Ford      15          STX Supercab 5.5' Box 2WD   \n8633  Ford F-150       Ford      13          FX4 SuperCab 6.5' Box 4WD   \n\n      carPrice  carMile   carLocationCity carLocationState carColorEx  \\\n1406     13995   132575        Midlothian               IL      Black   \n2649     18895    99059       San Antonio               TX      Black   \n3693     10986   197308        Fort Dodge               IA       Gray   \n5277     18900   103485           Abilene               TX     Silver   \n5315     14125   139115             Parma               OH      Black   \n6287     14000   129597         Pikeville               KY      White   \n7523     10990   171230           Wooster               OH       Blue   \n8497      7799    53611           Houston               TX      White   \n8633      8995   146907  Sterling Heights               MI        Red   \n\n     carColorIn  carAccident carOwner  carUsage  \n1406      Black            0        2  Personal  \n2649      Brown            0        2  Personal  \n3693       Gray            0        2     Fleet  \n5277      Black            0        1  Personal  \n5315      Black            0        5     Fleet  \n6287      Black            0        2  Personal  \n7523      Black            0        1  Personal  \n8497       Gray            1        1     Fleet  \n8633      Black            4        1  Personal  ",
      "text/html": "<div>\n<style scoped>\n    .dataframe tbody tr th:only-of-type {\n        vertical-align: middle;\n    }\n\n    .dataframe tbody tr th {\n        vertical-align: top;\n    }\n\n    .dataframe thead th {\n        text-align: right;\n    }\n</style>\n<table border=\"1\" class=\"dataframe\">\n  <thead>\n    <tr style=\"text-align: right;\">\n      <th></th>\n      <th>carName</th>\n      <th>carCompany</th>\n      <th>carAge</th>\n      <th>carGear</th>\n      <th>carPrice</th>\n      <th>carMile</th>\n      <th>carLocationCity</th>\n      <th>carLocationState</th>\n      <th>carColorEx</th>\n      <th>carColorIn</th>\n      <th>carAccident</th>\n      <th>carOwner</th>\n      <th>carUsage</th>\n    </tr>\n  </thead>\n  <tbody>\n    <tr>\n      <th>1406</th>\n      <td>Ford F-150</td>\n      <td>Ford</td>\n      <td>11</td>\n      <td>Lariat SuperCrew 5.5' Box 4WD</td>\n      <td>13995</td>\n      <td>132575</td>\n      <td>Midlothian</td>\n      <td>IL</td>\n      <td>Black</td>\n      <td>Black</td>\n      <td>0</td>\n      <td>2</td>\n      <td>Personal</td>\n    </tr>\n    <tr>\n      <th>2649</th>\n      <td>Ford F-150</td>\n      <td>Ford</td>\n      <td>11</td>\n      <td>King Ranch SuperCrew 5.5' Box 2WD</td>\n      <td>18895</td>\n      <td>99059</td>\n      <td>San Antonio</td>\n      <td>TX</td>\n      <td>Black</td>\n      <td>Brown</td>\n      <td>0</td>\n      <td>2</td>\n      <td>Personal</td>\n    </tr>\n    <tr>\n      <th>3693</th>\n      <td>Ford F-150</td>\n      <td>Ford</td>\n      <td>11</td>\n      <td>XLT SuperCrew 5.5' Box 4WD</td>\n      <td>10986</td>\n      <td>197308</td>\n      <td>Fort Dodge</td>\n      <td>IA</td>\n      <td>Gray</td>\n      <td>Gray</td>\n      <td>0</td>\n      <td>2</td>\n      <td>Fleet</td>\n    </tr>\n    <tr>\n      <th>5277</th>\n      <td>Ford F-150</td>\n      <td>Ford</td>\n      <td>11</td>\n      <td>XLT SuperCrew 5.5' Box 4WD</td>\n      <td>18900</td>\n      <td>103485</td>\n      <td>Abilene</td>\n      <td>TX</td>\n      <td>Silver</td>\n      <td>Black</td>\n      <td>0</td>\n      <td>1</td>\n      <td>Personal</td>\n    </tr>\n    <tr>\n      <th>5315</th>\n      <td>Ford F-150</td>\n      <td>Ford</td>\n      <td>11</td>\n      <td>XL SuperCrew 5.5' Box 4WD</td>\n      <td>14125</td>\n      <td>139115</td>\n      <td>Parma</td>\n      <td>OH</td>\n      <td>Black</td>\n      <td>Black</td>\n      <td>0</td>\n      <td>5</td>\n      <td>Fleet</td>\n    </tr>\n    <tr>\n      <th>6287</th>\n      <td>Ford F-150</td>\n      <td>Ford</td>\n      <td>12</td>\n      <td>XL SuperCrew 5.5' Box 4WD</td>\n      <td>14000</td>\n      <td>129597</td>\n      <td>Pikeville</td>\n      <td>KY</td>\n      <td>White</td>\n      <td>Black</td>\n      <td>0</td>\n      <td>2</td>\n      <td>Personal</td>\n    </tr>\n    <tr>\n      <th>7523</th>\n      <td>Ford F-150</td>\n      <td>Ford</td>\n      <td>12</td>\n      <td>FX4 SuperCrew 5.5' Box 4WD</td>\n      <td>10990</td>\n      <td>171230</td>\n      <td>Wooster</td>\n      <td>OH</td>\n      <td>Blue</td>\n      <td>Black</td>\n      <td>0</td>\n      <td>1</td>\n      <td>Personal</td>\n    </tr>\n    <tr>\n      <th>8497</th>\n      <td>Ford F-150</td>\n      <td>Ford</td>\n      <td>15</td>\n      <td>STX Supercab 5.5' Box 2WD</td>\n      <td>7799</td>\n      <td>53611</td>\n      <td>Houston</td>\n      <td>TX</td>\n      <td>White</td>\n      <td>Gray</td>\n      <td>1</td>\n      <td>1</td>\n      <td>Fleet</td>\n    </tr>\n    <tr>\n      <th>8633</th>\n      <td>Ford F-150</td>\n      <td>Ford</td>\n      <td>13</td>\n      <td>FX4 SuperCab 6.5' Box 4WD</td>\n      <td>8995</td>\n      <td>146907</td>\n      <td>Sterling Heights</td>\n      <td>MI</td>\n      <td>Red</td>\n      <td>Black</td>\n      <td>4</td>\n      <td>1</td>\n      <td>Personal</td>\n    </tr>\n  </tbody>\n</table>\n</div>"
     },
     "execution_count": 36,
     "metadata": {},
     "output_type": "execute_result"
    }
   ],
   "source": [
    "selectedDf[selectedDf[\"carAge\"] > 10]"
   ],
   "metadata": {
    "collapsed": false,
    "pycharm": {
     "name": "#%%\n"
    }
   }
  },
  {
   "cell_type": "markdown",
   "source": [
    "## carUsage make it dummies variable"
   ],
   "metadata": {
    "collapsed": false,
    "pycharm": {
     "name": "#%% md\n"
    }
   }
  },
  {
   "cell_type": "code",
   "execution_count": 37,
   "outputs": [
    {
     "data": {
      "text/plain": "Personal    8427\nFleet       1519\nName: carUsage, dtype: int64"
     },
     "execution_count": 37,
     "metadata": {},
     "output_type": "execute_result"
    }
   ],
   "source": [
    "dfNew.carUsage.value_counts()"
   ],
   "metadata": {
    "collapsed": false,
    "pycharm": {
     "name": "#%%\n"
    }
   }
  },
  {
   "cell_type": "code",
   "execution_count": 38,
   "outputs": [
    {
     "data": {
      "text/plain": "1    8427\n0    1519\nName: carUsage, dtype: int64"
     },
     "execution_count": 38,
     "metadata": {},
     "output_type": "execute_result"
    }
   ],
   "source": [
    "dfNew['carUsage'].replace({\"Fleet\":0}, inplace= True)\n",
    "dfNew['carUsage'].replace({\"Personal\":1}, inplace= True)\n",
    "dfNew['carUsage'].value_counts()"
   ],
   "metadata": {
    "collapsed": false,
    "pycharm": {
     "name": "#%%\n"
    }
   }
  },
  {
   "cell_type": "markdown",
   "source": [
    "With brief check I can say they are right"
   ],
   "metadata": {
    "collapsed": false,
    "pycharm": {
     "name": "#%% md\n"
    }
   }
  },
  {
   "cell_type": "markdown",
   "source": [
    "# Another time check all data for starting ML"
   ],
   "metadata": {
    "collapsed": false,
    "pycharm": {
     "name": "#%% md\n"
    }
   }
  },
  {
   "cell_type": "code",
   "execution_count": 39,
   "outputs": [
    {
     "name": "stdout",
     "output_type": "stream",
     "text": [
      "<class 'pandas.core.frame.DataFrame'>\n",
      "Int64Index: 9946 entries, 0 to 9965\n",
      "Data columns (total 13 columns):\n",
      " #   Column            Non-Null Count  Dtype \n",
      "---  ------            --------------  ----- \n",
      " 0   carName           9946 non-null   object\n",
      " 1   carCompany        9946 non-null   object\n",
      " 2   carAge            9946 non-null   int64 \n",
      " 3   carGear           9946 non-null   object\n",
      " 4   carPrice          9946 non-null   int64 \n",
      " 5   carMile           9946 non-null   int64 \n",
      " 6   carLocationCity   9946 non-null   object\n",
      " 7   carLocationState  9946 non-null   object\n",
      " 8   carColorEx        9946 non-null   object\n",
      " 9   carColorIn        9946 non-null   object\n",
      " 10  carAccident       9946 non-null   int64 \n",
      " 11  carOwner          9946 non-null   object\n",
      " 12  carUsage          9946 non-null   int64 \n",
      "dtypes: int64(5), object(8)\n",
      "memory usage: 1.1+ MB\n"
     ]
    }
   ],
   "source": [
    "dfNew.info()"
   ],
   "metadata": {
    "collapsed": false,
    "pycharm": {
     "name": "#%%\n"
    }
   }
  },
  {
   "cell_type": "code",
   "execution_count": 40,
   "outputs": [
    {
     "name": "stdout",
     "output_type": "stream",
     "text": [
      "\n",
      "--------------carName--------------\n",
      "count           9966\n",
      "unique           212\n",
      "top       Ford F-150\n",
      "freq            2198\n",
      "Name: carName, dtype: object\n",
      "\n",
      "--------------carCompany--------------\n",
      "count     9966\n",
      "unique      42\n",
      "top       Ford\n",
      "freq      3432\n",
      "Name: carCompany, dtype: object\n",
      "\n",
      "--------------carAge--------------\n",
      "count    9966.000000\n",
      "mean        4.123721\n",
      "std         1.918261\n",
      "min         1.000000\n",
      "25%         3.000000\n",
      "50%         4.000000\n",
      "75%         4.000000\n",
      "max        25.000000\n",
      "Name: carAge, dtype: float64\n",
      "\n",
      "--------------carGear--------------\n",
      "count                           9966\n",
      "unique                           959\n",
      "top       XLT SuperCrew 5.5' Box 4WD\n",
      "freq                            1162\n",
      "Name: carGear, dtype: object\n",
      "\n",
      "--------------carPrice--------------\n",
      "count      9966.000000\n",
      "mean      28734.512041\n",
      "std       11102.387382\n",
      "min        1500.000000\n",
      "25%       19993.250000\n",
      "50%       27999.000000\n",
      "75%       36952.000000\n",
      "max      101586.000000\n",
      "Name: carPrice, dtype: float64\n",
      "\n",
      "--------------carMile--------------\n",
      "count      9966.000000\n",
      "mean      54543.822798\n",
      "std       36164.320248\n",
      "min          19.000000\n",
      "25%       29709.000000\n",
      "50%       44767.500000\n",
      "75%       69515.000000\n",
      "max      293352.000000\n",
      "Name: carMile, dtype: float64\n",
      "\n",
      "--------------carLocationCity--------------\n",
      "count        9966\n",
      "unique       1368\n",
      "top       Houston\n",
      "freq          256\n",
      "Name: carLocationCity, dtype: object\n",
      "\n",
      "--------------carLocationState--------------\n",
      "count     9966\n",
      "unique      50\n",
      "top         TX\n",
      "freq      2130\n",
      "Name: carLocationState, dtype: object\n",
      "\n",
      "--------------carColorEx--------------\n",
      "count      9966\n",
      "unique       15\n",
      "top       White\n",
      "freq       3456\n",
      "Name: carColorEx, dtype: object\n",
      "\n",
      "--------------carColorIn--------------\n",
      "count      9966\n",
      "unique        8\n",
      "top       Black\n",
      "freq       7065\n",
      "Name: carColorIn, dtype: object\n",
      "\n",
      "--------------carAccident--------------\n",
      "count    9966.000000\n",
      "mean        0.165764\n",
      "std         0.432285\n",
      "min         0.000000\n",
      "25%         0.000000\n",
      "50%         0.000000\n",
      "75%         0.000000\n",
      "max         5.000000\n",
      "Name: carAccident, dtype: float64\n",
      "\n",
      "--------------carOwner--------------\n",
      "count     9966\n",
      "unique       8\n",
      "top          1\n",
      "freq      6638\n",
      "Name: carOwner, dtype: object\n",
      "\n",
      "--------------carUsage--------------\n",
      "count         9966\n",
      "unique           2\n",
      "top       Personal\n",
      "freq          8446\n",
      "Name: carUsage, dtype: object\n"
     ]
    }
   ],
   "source": [
    "for i in range(0, len(df.columns)):\n",
    "    data_describe = df.iloc[:, i].describe()\n",
    "    print(str(\"\\n\") + \"--\" * 7 + str(dfNew.columns[i]) + \"--\" * 7)\n",
    "    print(data_describe)"
   ],
   "metadata": {
    "collapsed": false,
    "pycharm": {
     "name": "#%%\n"
    }
   }
  },
  {
   "cell_type": "markdown",
   "source": [
    "Drop feature ==> df.drop(['C', 'D'], axis = 1)<br>\n",
    "carName, carGear, carLocationCity, carColorIn"
   ],
   "metadata": {
    "collapsed": false
   }
  },
  {
   "cell_type": "code",
   "execution_count": 41,
   "outputs": [
    {
     "data": {
      "text/plain": "Index(['carCompany', 'carAge', 'carPrice', 'carMile', 'carColorEx',\n       'carAccident', 'carOwner', 'carUsage'],\n      dtype='object')"
     },
     "execution_count": 41,
     "metadata": {},
     "output_type": "execute_result"
    }
   ],
   "source": [
    "dfMl = dfNew.drop([\"carName\",\"carGear\",\"carLocationCity\",\"carLocationState\",\"carColorIn\"], axis=1)\n",
    "dfMl.columns"
   ],
   "metadata": {
    "collapsed": false,
    "pycharm": {
     "name": "#%%\n"
    }
   }
  },
  {
   "cell_type": "markdown",
   "source": [
    "# Visualization"
   ],
   "metadata": {
    "collapsed": false
   }
  },
  {
   "cell_type": "code",
   "execution_count": 42,
   "outputs": [
    {
     "data": {
      "text/plain": "<seaborn.axisgrid.PairGrid at 0x1f09773a070>"
     },
     "execution_count": 42,
     "metadata": {},
     "output_type": "execute_result"
    },
    {
     "data": {
      "text/plain": "<Figure size 900x900 with 30 Axes>",
      "image/png": "[encoded data removed]"
     },
     "metadata": {
      "needs_background": "light"
     },
     "output_type": "display_data"
    }
   ],
   "source": [
    "sb.pairplot(dfMl)"
   ],
   "metadata": {
    "collapsed": false,
    "pycharm": {
     "name": "#%%\n"
    }
   }
  },
  {
   "cell_type": "code",
   "execution_count": 43,
   "outputs": [],
   "source": [
    "from pandas_profiling import ProfileReport"
   ],
   "metadata": {
    "collapsed": false,
    "pycharm": {
     "name": "#%%\n"
    }
   }
  },
  {
   "cell_type": "code",
   "execution_count": 44,
   "outputs": [],
   "source": [
    "#profile = ProfileReport(dfMl)\n",
    "#profile.to_file(\"OperatingSystems\")"
   ],
   "metadata": {
    "collapsed": false,
    "pycharm": {
     "name": "#%%\n"
    }
   }
  },
  {
   "cell_type": "markdown",
   "source": [
    "Deal with car name"
   ],
   "metadata": {
    "collapsed": false,
    "pycharm": {
     "name": "#%% md\n"
    }
   }
  },
  {
   "cell_type": "code",
   "execution_count": 45,
   "outputs": [
    {
     "data": {
      "text/plain": "42"
     },
     "execution_count": 45,
     "metadata": {},
     "output_type": "execute_result"
    }
   ],
   "source": [
    "len(set(dfMl.carCompany.values))\n",
    "len(dfMl.carCompany.value_counts().index)"
   ],
   "metadata": {
    "collapsed": false,
    "pycharm": {
     "name": "#%%\n"
    }
   }
  },
  {
   "cell_type": "code",
   "execution_count": 46,
   "outputs": [
    {
     "data": {
      "text/plain": "Ford             3417\nChevrolet        1466\nToyota            933\nNissan            736\nJeep              728\nRam               527\nMercedes-Benz     400\nHonda             349\nKia               205\nBMW               189\nGMC               185\nHyundai           163\nDodge             160\nVolkswagen        126\nLexus              73\nChrysler           59\nINFINITI           51\nBuick              35\nCadillac           22\nMazda              22\nSubaru             15\nAudi               12\nTesla               9\nAcura               7\nLincoln             7\nsmart               6\nVolvo               6\nFIAT                5\nLand                5\nMitsubishi          5\nPorsche             5\nGenesis             4\nBentley             3\nAston               2\nHUMMER              2\nSaturn              1\nSuzuki              1\nJaguar              1\nMercury             1\nScion               1\nPlymouth            1\nPontiac             1\nName: carCompany, dtype: int64"
     },
     "execution_count": 46,
     "metadata": {},
     "output_type": "execute_result"
    }
   ],
   "source": [
    "dfMl.carCompany.value_counts()"
   ],
   "metadata": {
    "collapsed": false,
    "pycharm": {
     "name": "#%%\n"
    }
   }
  },
  {
   "cell_type": "code",
   "execution_count": 47,
   "outputs": [
    {
     "name": "stderr",
     "output_type": "stream",
     "text": [
      "D:\\PhD\\Python\\Swebinar\\webScraping\\lib\\site-packages\\seaborn\\_decorators.py:36: FutureWarning: Pass the following variable as a keyword arg: x. From version 0.12, the only valid positional argument will be `data`, and passing other arguments without an explicit keyword will result in an error or misinterpretation.\n",
      "  warnings.warn(\n",
      "C:\\Users\\34657\\AppData\\Local\\Temp/ipykernel_31772/3253247073.py:5: UserWarning: Matplotlib is currently using agg, which is a non-GUI backend, so cannot show the figure.\n",
      "  plt.show()\n"
     ]
    },
    {
     "data": {
      "text/plain": "<Figure size 1080x360 with 1 Axes>",
      "image/png": "[encoded data removed]"
     },
     "metadata": {
      "needs_background": "light"
     },
     "output_type": "display_data"
    }
   ],
   "source": [
    "fig, ax = plt.subplots(figsize = (15,5))\n",
    "plt1 = sb.countplot(dfMl['carCompany'], order=pd.value_counts(df['carCompany']).index,)\n",
    "plt1.set(xlabel = 'carCompany', ylabel= 'Count of Cars')\n",
    "xticks(rotation = 90)\n",
    "plt.show()\n",
    "plt.tight_layout()"
   ],
   "metadata": {
    "collapsed": false,
    "pycharm": {
     "name": "#%%\n"
    }
   }
  },
  {
   "cell_type": "markdown",
   "source": [
    "Most of the car are Ford !!!! and Cars company not distributed appropriate, <br/>\n",
    "Because price might be difference"
   ],
   "metadata": {
    "collapsed": false,
    "pycharm": {
     "name": "#%% md\n"
    }
   }
  },
  {
   "cell_type": "code",
   "execution_count": 48,
   "outputs": [
    {
     "data": {
      "text/plain": "count     3417.000000\nmean     32087.083699\nstd      11159.212110\nmin       4888.000000\n25%      23998.000000\n50%      33000.000000\n75%      39000.000000\nmax      75901.000000\nName: carPrice, dtype: float64"
     },
     "execution_count": 48,
     "metadata": {},
     "output_type": "execute_result"
    }
   ],
   "source": [
    "dfMl[dfMl[\"carCompany\"] == \"Ford\"].carPrice.describe()"
   ],
   "metadata": {
    "collapsed": false,
    "pycharm": {
     "name": "#%%\n"
    }
   }
  },
  {
   "cell_type": "code",
   "execution_count": 49,
   "outputs": [
    {
     "data": {
      "text/plain": "count      9946.000000\nmean      28738.375930\nstd       11103.497078\nmin        1500.000000\n25%       19993.250000\n50%       27999.000000\n75%       36965.250000\nmax      101586.000000\nName: carPrice, dtype: float64"
     },
     "execution_count": 49,
     "metadata": {},
     "output_type": "execute_result"
    }
   ],
   "source": [
    "dfMl.carPrice.describe()"
   ],
   "metadata": {
    "collapsed": false,
    "pycharm": {
     "name": "#%%\n"
    }
   }
  },
  {
   "cell_type": "markdown",
   "source": [
    "Ford's price are not separated maybe it helps, <br>\n",
    "but I want to try to describe it more base on relevant price"
   ],
   "metadata": {
    "collapsed": false,
    "pycharm": {
     "name": "#%% md\n"
    }
   }
  },
  {
   "cell_type": "code",
   "execution_count": 50,
   "outputs": [
    {
     "data": {
      "text/plain": "       carCompany    avCarPrice\n0           Acura  17636.428571\n1           Aston  59995.000000\n2            Audi  25917.666667\n3             BMW  30275.910053\n4         Bentley  52838.333333\n5           Buick  18486.514286\n6        Cadillac  27606.954545\n7       Chevrolet  30284.279673\n8        Chrysler  17760.169492\n9           Dodge  22699.781250\n10           FIAT  13810.600000\n11           Ford  32087.083699\n12            GMC  38757.881081\n13        Genesis  26646.500000\n14         HUMMER  16495.000000\n15          Honda  22219.770774\n16        Hyundai  15319.582822\n17       INFINITI  31160.137255\n18         Jaguar   5995.000000\n19           Jeep  28884.472527\n20            Kia  17585.697561\n21           Land  32388.000000\n22          Lexus  25053.657534\n23        Lincoln  26214.000000\n24          Mazda  22729.318182\n25  Mercedes-Benz  32540.442500\n26        Mercury   4950.000000\n27     Mitsubishi  18058.800000\n28         Nissan  18666.781250\n29       Plymouth   2564.000000\n30        Pontiac   2000.000000\n31        Porsche  40703.600000\n32            Ram  36717.358634\n33         Saturn   3995.000000\n34          Scion   6995.000000\n35         Subaru  22758.733333\n36         Suzuki   8989.000000\n37          Tesla  65990.111111\n38         Toyota  24625.526259\n39     Volkswagen  18298.246032\n40          Volvo  30470.500000\n41          smart  10584.500000",
      "text/html": "<div>\n<style scoped>\n    .dataframe tbody tr th:only-of-type {\n        vertical-align: middle;\n    }\n\n    .dataframe tbody tr th {\n        vertical-align: top;\n    }\n\n    .dataframe thead th {\n        text-align: right;\n    }\n</style>\n<table border=\"1\" class=\"dataframe\">\n  <thead>\n    <tr style=\"text-align: right;\">\n      <th></th>\n      <th>carCompany</th>\n      <th>avCarPrice</th>\n    </tr>\n  </thead>\n  <tbody>\n    <tr>\n      <th>0</th>\n      <td>Acura</td>\n      <td>17636.428571</td>\n    </tr>\n    <tr>\n      <th>1</th>\n      <td>Aston</td>\n      <td>59995.000000</td>\n    </tr>\n    <tr>\n      <th>2</th>\n      <td>Audi</td>\n      <td>25917.666667</td>\n    </tr>\n    <tr>\n      <th>3</th>\n      <td>BMW</td>\n      <td>30275.910053</td>\n    </tr>\n    <tr>\n      <th>4</th>\n      <td>Bentley</td>\n      <td>52838.333333</td>\n    </tr>\n    <tr>\n      <th>5</th>\n      <td>Buick</td>\n      <td>18486.514286</td>\n    </tr>\n    <tr>\n      <th>6</th>\n      <td>Cadillac</td>\n      <td>27606.954545</td>\n    </tr>\n    <tr>\n      <th>7</th>\n      <td>Chevrolet</td>\n      <td>30284.279673</td>\n    </tr>\n    <tr>\n      <th>8</th>\n      <td>Chrysler</td>\n      <td>17760.169492</td>\n    </tr>\n    <tr>\n      <th>9</th>\n      <td>Dodge</td>\n      <td>22699.781250</td>\n    </tr>\n    <tr>\n      <th>10</th>\n      <td>FIAT</td>\n      <td>13810.600000</td>\n    </tr>\n    <tr>\n      <th>11</th>\n      <td>Ford</td>\n      <td>32087.083699</td>\n    </tr>\n    <tr>\n      <th>12</th>\n      <td>GMC</td>\n      <td>38757.881081</td>\n    </tr>\n    <tr>\n      <th>13</th>\n      <td>Genesis</td>\n      <td>26646.500000</td>\n    </tr>\n    <tr>\n      <th>14</th>\n      <td>HUMMER</td>\n      <td>16495.000000</td>\n    </tr>\n    <tr>\n      <th>15</th>\n      <td>Honda</td>\n      <td>22219.770774</td>\n    </tr>\n    <tr>\n      <th>16</th>\n      <td>Hyundai</td>\n      <td>15319.582822</td>\n    </tr>\n    <tr>\n      <th>17</th>\n      <td>INFINITI</td>\n      <td>31160.137255</td>\n    </tr>\n    <tr>\n      <th>18</th>\n      <td>Jaguar</td>\n      <td>5995.000000</td>\n    </tr>\n    <tr>\n      <th>19</th>\n      <td>Jeep</td>\n      <td>28884.472527</td>\n    </tr>\n    <tr>\n      <th>20</th>\n      <td>Kia</td>\n      <td>17585.697561</td>\n    </tr>\n    <tr>\n      <th>21</th>\n      <td>Land</td>\n      <td>32388.000000</td>\n    </tr>\n    <tr>\n      <th>22</th>\n      <td>Lexus</td>\n      <td>25053.657534</td>\n    </tr>\n    <tr>\n      <th>23</th>\n      <td>Lincoln</td>\n      <td>26214.000000</td>\n    </tr>\n    <tr>\n      <th>24</th>\n      <td>Mazda</td>\n      <td>22729.318182</td>\n    </tr>\n    <tr>\n      <th>25</th>\n      <td>Mercedes-Benz</td>\n      <td>32540.442500</td>\n    </tr>\n    <tr>\n      <th>26</th>\n      <td>Mercury</td>\n      <td>4950.000000</td>\n    </tr>\n    <tr>\n      <th>27</th>\n      <td>Mitsubishi</td>\n      <td>18058.800000</td>\n    </tr>\n    <tr>\n      <th>28</th>\n      <td>Nissan</td>\n      <td>18666.781250</td>\n    </tr>\n    <tr>\n      <th>29</th>\n      <td>Plymouth</td>\n      <td>2564.000000</td>\n    </tr>\n    <tr>\n      <th>30</th>\n      <td>Pontiac</td>\n      <td>2000.000000</td>\n    </tr>\n    <tr>\n      <th>31</th>\n      <td>Porsche</td>\n      <td>40703.600000</td>\n    </tr>\n    <tr>\n      <th>32</th>\n      <td>Ram</td>\n      <td>36717.358634</td>\n    </tr>\n    <tr>\n      <th>33</th>\n      <td>Saturn</td>\n      <td>3995.000000</td>\n    </tr>\n    <tr>\n      <th>34</th>\n      <td>Scion</td>\n      <td>6995.000000</td>\n    </tr>\n    <tr>\n      <th>35</th>\n      <td>Subaru</td>\n      <td>22758.733333</td>\n    </tr>\n    <tr>\n      <th>36</th>\n      <td>Suzuki</td>\n      <td>8989.000000</td>\n    </tr>\n    <tr>\n      <th>37</th>\n      <td>Tesla</td>\n      <td>65990.111111</td>\n    </tr>\n    <tr>\n      <th>38</th>\n      <td>Toyota</td>\n      <td>24625.526259</td>\n    </tr>\n    <tr>\n      <th>39</th>\n      <td>Volkswagen</td>\n      <td>18298.246032</td>\n    </tr>\n    <tr>\n      <th>40</th>\n      <td>Volvo</td>\n      <td>30470.500000</td>\n    </tr>\n    <tr>\n      <th>41</th>\n      <td>smart</td>\n      <td>10584.500000</td>\n    </tr>\n  </tbody>\n</table>\n</div>"
     },
     "execution_count": 50,
     "metadata": {},
     "output_type": "execute_result"
    }
   ],
   "source": [
    "dfAvePrice = dfMl[['carCompany','carPrice']].groupby(\"carCompany\",\n",
    "    as_index = False).mean().rename(columns={'carPrice':'avCarPrice'})\n",
    "dfAvePrice"
   ],
   "metadata": {
    "collapsed": false,
    "pycharm": {
     "name": "#%%\n"
    }
   }
  },
  {
   "cell_type": "code",
   "execution_count": 51,
   "outputs": [
    {
     "name": "stderr",
     "output_type": "stream",
     "text": [
      "C:\\Users\\34657\\AppData\\Local\\Temp/ipykernel_31772/1381573516.py:6: UserWarning: Matplotlib is currently using agg, which is a non-GUI backend, so cannot show the figure.\n",
      "  plt.show()\n"
     ]
    },
    {
     "data": {
      "text/plain": "<Figure size 1080x216 with 1 Axes>",
      "image/png": "[encoded data removed]"
     },
     "metadata": {
      "needs_background": "light"
     },
     "output_type": "display_data"
    }
   ],
   "source": [
    "plt1 = dfAvePrice.plot(x = 'carCompany', kind='bar',legend = False,\n",
    "                              sort_columns = True, figsize = (15,3))\n",
    "plt1.set_xlabel(\"carCompany\")\n",
    "plt1.set_ylabel(\"Avg Price (Dollars)\")\n",
    "xticks(rotation = 90)\n",
    "plt.show()"
   ],
   "metadata": {
    "collapsed": false,
    "pycharm": {
     "name": "#%%\n"
    }
   }
  },
  {
   "cell_type": "code",
   "execution_count": 52,
   "outputs": [
    {
     "data": {
      "text/plain": "count       42.000000\nmean     23994.174724\nstd      14141.840022\nmin       2000.000000\n25%      16767.674390\n50%      22744.025758\n75%      30423.944918\nmax      65990.111111\nName: avCarPrice, dtype: float64"
     },
     "execution_count": 52,
     "metadata": {},
     "output_type": "execute_result"
    }
   ],
   "source": [
    "dfAvePrice.avCarPrice.describe()"
   ],
   "metadata": {
    "collapsed": false,
    "pycharm": {
     "name": "#%%\n"
    }
   }
  },
  {
   "cell_type": "code",
   "execution_count": 53,
   "outputs": [
    {
     "data": {
      "text/plain": "     carCompany  carAge  carPrice  carMile carColorEx  carAccident carOwner  \\\n0        Toyota       5     33987    46375     Silver            1        2   \n1        Toyota       3     30499    42270     Silver            0        2   \n2        Toyota       2     19935    35454      White            0        1   \n3        Toyota       2     18499    51474      Black            1        1   \n4        Toyota       3     40457    26582      White            0        1   \n...         ...     ...       ...      ...        ...          ...      ...   \n9941      smart       6      8995    36064      White            0        1   \n9942      smart       6      8995    36113      White            0        1   \n9943      smart       6      8995    36057      White            0        1   \n9944     Saturn      18      3995   141736      White            0        4   \n9945    Pontiac      24      2000   279213      White            0        4   \n\n      carUsage    avCarPrice  \n0            1  24625.526259  \n1            1  24625.526259  \n2            1  24625.526259  \n3            1  24625.526259  \n4            1  24625.526259  \n...        ...           ...  \n9941         1  10584.500000  \n9942         1  10584.500000  \n9943         1  10584.500000  \n9944         1   3995.000000  \n9945         1   2000.000000  \n\n[9946 rows x 9 columns]",
      "text/html": "<div>\n<style scoped>\n    .dataframe tbody tr th:only-of-type {\n        vertical-align: middle;\n    }\n\n    .dataframe tbody tr th {\n        vertical-align: top;\n    }\n\n    .dataframe thead th {\n        text-align: right;\n    }\n</style>\n<table border=\"1\" class=\"dataframe\">\n  <thead>\n    <tr style=\"text-align: right;\">\n      <th></th>\n      <th>carCompany</th>\n      <th>carAge</th>\n      <th>carPrice</th>\n      <th>carMile</th>\n      <th>carColorEx</th>\n      <th>carAccident</th>\n      <th>carOwner</th>\n      <th>carUsage</th>\n      <th>avCarPrice</th>\n    </tr>\n  </thead>\n  <tbody>\n    <tr>\n      <th>0</th>\n      <td>Toyota</td>\n      <td>5</td>\n      <td>33987</td>\n      <td>46375</td>\n      <td>Silver</td>\n      <td>1</td>\n      <td>2</td>\n      <td>1</td>\n      <td>24625.526259</td>\n    </tr>\n    <tr>\n      <th>1</th>\n      <td>Toyota</td>\n      <td>3</td>\n      <td>30499</td>\n      <td>42270</td>\n      <td>Silver</td>\n      <td>0</td>\n      <td>2</td>\n      <td>1</td>\n      <td>24625.526259</td>\n    </tr>\n    <tr>\n      <th>2</th>\n      <td>Toyota</td>\n      <td>2</td>\n      <td>19935</td>\n      <td>35454</td>\n      <td>White</td>\n      <td>0</td>\n      <td>1</td>\n      <td>1</td>\n      <td>24625.526259</td>\n    </tr>\n    <tr>\n      <th>3</th>\n      <td>Toyota</td>\n      <td>2</td>\n      <td>18499</td>\n      <td>51474</td>\n      <td>Black</td>\n      <td>1</td>\n      <td>1</td>\n      <td>1</td>\n      <td>24625.526259</td>\n    </tr>\n    <tr>\n      <th>4</th>\n      <td>Toyota</td>\n      <td>3</td>\n      <td>40457</td>\n      <td>26582</td>\n      <td>White</td>\n      <td>0</td>\n      <td>1</td>\n      <td>1</td>\n      <td>24625.526259</td>\n    </tr>\n    <tr>\n      <th>...</th>\n      <td>...</td>\n      <td>...</td>\n      <td>...</td>\n      <td>...</td>\n      <td>...</td>\n      <td>...</td>\n      <td>...</td>\n      <td>...</td>\n      <td>...</td>\n    </tr>\n    <tr>\n      <th>9941</th>\n      <td>smart</td>\n      <td>6</td>\n      <td>8995</td>\n      <td>36064</td>\n      <td>White</td>\n      <td>0</td>\n      <td>1</td>\n      <td>1</td>\n      <td>10584.500000</td>\n    </tr>\n    <tr>\n      <th>9942</th>\n      <td>smart</td>\n      <td>6</td>\n      <td>8995</td>\n      <td>36113</td>\n      <td>White</td>\n      <td>0</td>\n      <td>1</td>\n      <td>1</td>\n      <td>10584.500000</td>\n    </tr>\n    <tr>\n      <th>9943</th>\n      <td>smart</td>\n      <td>6</td>\n      <td>8995</td>\n      <td>36057</td>\n      <td>White</td>\n      <td>0</td>\n      <td>1</td>\n      <td>1</td>\n      <td>10584.500000</td>\n    </tr>\n    <tr>\n      <th>9944</th>\n      <td>Saturn</td>\n      <td>18</td>\n      <td>3995</td>\n      <td>141736</td>\n      <td>White</td>\n      <td>0</td>\n      <td>4</td>\n      <td>1</td>\n      <td>3995.000000</td>\n    </tr>\n    <tr>\n      <th>9945</th>\n      <td>Pontiac</td>\n      <td>24</td>\n      <td>2000</td>\n      <td>279213</td>\n      <td>White</td>\n      <td>0</td>\n      <td>4</td>\n      <td>1</td>\n      <td>2000.000000</td>\n    </tr>\n  </tbody>\n</table>\n<p>9946 rows × 9 columns</p>\n</div>"
     },
     "execution_count": 53,
     "metadata": {},
     "output_type": "execute_result"
    }
   ],
   "source": [
    "dfMlCa = dfMl.merge(dfAvePrice, on = \"carCompany\")\n",
    "dfMlCa"
   ],
   "metadata": {
    "collapsed": false,
    "pycharm": {
     "name": "#%%\n"
    }
   }
  },
  {
   "cell_type": "code",
   "execution_count": 54,
   "outputs": [
    {
     "data": {
      "text/plain": "     carCompany  carAge  carPrice  carMile carColorEx  carAccident carOwner  \\\n0        Toyota       5     33987    46375     Silver            1        2   \n1        Toyota       3     30499    42270     Silver            0        2   \n2        Toyota       2     19935    35454      White            0        1   \n3        Toyota       2     18499    51474      Black            1        1   \n4        Toyota       3     40457    26582      White            0        1   \n...         ...     ...       ...      ...        ...          ...      ...   \n9941      smart       6      8995    36064      White            0        1   \n9942      smart       6      8995    36113      White            0        1   \n9943      smart       6      8995    36057      White            0        1   \n9944     Saturn      18      3995   141736      White            0        4   \n9945    Pontiac      24      2000   279213      White            0        4   \n\n      carUsage    avCarPrice carCompanyCategory  \n0            1  24625.526259          Mid_Range  \n1            1  24625.526259          Mid_Range  \n2            1  24625.526259          Mid_Range  \n3            1  24625.526259          Mid_Range  \n4            1  24625.526259          Mid_Range  \n...        ...           ...                ...  \n9941         1  10584.500000          Mid_Range  \n9942         1  10584.500000          Mid_Range  \n9943         1  10584.500000          Mid_Range  \n9944         1   3995.000000             Budget  \n9945         1   2000.000000             Budget  \n\n[9946 rows x 10 columns]",
      "text/html": "<div>\n<style scoped>\n    .dataframe tbody tr th:only-of-type {\n        vertical-align: middle;\n    }\n\n    .dataframe tbody tr th {\n        vertical-align: top;\n    }\n\n    .dataframe thead th {\n        text-align: right;\n    }\n</style>\n<table border=\"1\" class=\"dataframe\">\n  <thead>\n    <tr style=\"text-align: right;\">\n      <th></th>\n      <th>carCompany</th>\n      <th>carAge</th>\n      <th>carPrice</th>\n      <th>carMile</th>\n      <th>carColorEx</th>\n      <th>carAccident</th>\n      <th>carOwner</th>\n      <th>carUsage</th>\n      <th>avCarPrice</th>\n      <th>carCompanyCategory</th>\n    </tr>\n  </thead>\n  <tbody>\n    <tr>\n      <th>0</th>\n      <td>Toyota</td>\n      <td>5</td>\n      <td>33987</td>\n      <td>46375</td>\n      <td>Silver</td>\n      <td>1</td>\n      <td>2</td>\n      <td>1</td>\n      <td>24625.526259</td>\n      <td>Mid_Range</td>\n    </tr>\n    <tr>\n      <th>1</th>\n      <td>Toyota</td>\n      <td>3</td>\n      <td>30499</td>\n      <td>42270</td>\n      <td>Silver</td>\n      <td>0</td>\n      <td>2</td>\n      <td>1</td>\n      <td>24625.526259</td>\n      <td>Mid_Range</td>\n    </tr>\n    <tr>\n      <th>2</th>\n      <td>Toyota</td>\n      <td>2</td>\n      <td>19935</td>\n      <td>35454</td>\n      <td>White</td>\n      <td>0</td>\n      <td>1</td>\n      <td>1</td>\n      <td>24625.526259</td>\n      <td>Mid_Range</td>\n    </tr>\n    <tr>\n      <th>3</th>\n      <td>Toyota</td>\n      <td>2</td>\n      <td>18499</td>\n      <td>51474</td>\n      <td>Black</td>\n      <td>1</td>\n      <td>1</td>\n      <td>1</td>\n      <td>24625.526259</td>\n      <td>Mid_Range</td>\n    </tr>\n    <tr>\n      <th>4</th>\n      <td>Toyota</td>\n      <td>3</td>\n      <td>40457</td>\n      <td>26582</td>\n      <td>White</td>\n      <td>0</td>\n      <td>1</td>\n      <td>1</td>\n      <td>24625.526259</td>\n      <td>Mid_Range</td>\n    </tr>\n    <tr>\n      <th>...</th>\n      <td>...</td>\n      <td>...</td>\n      <td>...</td>\n      <td>...</td>\n      <td>...</td>\n      <td>...</td>\n      <td>...</td>\n      <td>...</td>\n      <td>...</td>\n      <td>...</td>\n    </tr>\n    <tr>\n      <th>9941</th>\n      <td>smart</td>\n      <td>6</td>\n      <td>8995</td>\n      <td>36064</td>\n      <td>White</td>\n      <td>0</td>\n      <td>1</td>\n      <td>1</td>\n      <td>10584.500000</td>\n      <td>Mid_Range</td>\n    </tr>\n    <tr>\n      <th>9942</th>\n      <td>smart</td>\n      <td>6</td>\n      <td>8995</td>\n      <td>36113</td>\n      <td>White</td>\n      <td>0</td>\n      <td>1</td>\n      <td>1</td>\n      <td>10584.500000</td>\n      <td>Mid_Range</td>\n    </tr>\n    <tr>\n      <th>9943</th>\n      <td>smart</td>\n      <td>6</td>\n      <td>8995</td>\n      <td>36057</td>\n      <td>White</td>\n      <td>0</td>\n      <td>1</td>\n      <td>1</td>\n      <td>10584.500000</td>\n      <td>Mid_Range</td>\n    </tr>\n    <tr>\n      <th>9944</th>\n      <td>Saturn</td>\n      <td>18</td>\n      <td>3995</td>\n      <td>141736</td>\n      <td>White</td>\n      <td>0</td>\n      <td>4</td>\n      <td>1</td>\n      <td>3995.000000</td>\n      <td>Budget</td>\n    </tr>\n    <tr>\n      <th>9945</th>\n      <td>Pontiac</td>\n      <td>24</td>\n      <td>2000</td>\n      <td>279213</td>\n      <td>White</td>\n      <td>0</td>\n      <td>4</td>\n      <td>1</td>\n      <td>2000.000000</td>\n      <td>Budget</td>\n    </tr>\n  </tbody>\n</table>\n<p>9946 rows × 10 columns</p>\n</div>"
     },
     "execution_count": 54,
     "metadata": {},
     "output_type": "execute_result"
    }
   ],
   "source": [
    "dfMlCa[\"carCompanyCategory\"]= dfMlCa['avCarPrice'].apply(lambda x : \"Budget\" if x < 10000\n",
    "                else (\"Mid_Range\" if 10000 <= x < 40000\n",
    "                else \"Luxury\"))\n",
    "dfMlCa"
   ],
   "metadata": {
    "collapsed": false,
    "pycharm": {
     "name": "#%%\n"
    }
   }
  },
  {
   "cell_type": "code",
   "execution_count": 55,
   "outputs": [],
   "source": [
    "dfMlCa.drop([\"avCarPrice\"], axis=1, inplace=True)"
   ],
   "metadata": {
    "collapsed": false,
    "pycharm": {
     "name": "#%%\n"
    }
   }
  },
  {
   "cell_type": "code",
   "execution_count": 56,
   "outputs": [
    {
     "data": {
      "text/plain": "     carCompany  carAge  carPrice  carMile carColorEx  carAccident carOwner  \\\n9872      Tesla       4     43153    18552      White            1        2   \n9873      Tesla       4     58590    26152       Gray            0        1   \n9874      Tesla       4     59400    27616      White            0        2   \n9875      Tesla       4     73995    39304      Black            0        1   \n9876      Tesla       4     73995    38734     Silver            0        1   \n9877      Tesla       4     60888    44172      Black            0        2   \n9878      Tesla       4     73995    39737     Silver            0        1   \n9879      Tesla       4     75900    18752      Black            0        1   \n9880      Tesla       4     73995    33126     Silver            0        1   \n9903      Aston      10     59995    50575      White            2        3   \n9904      Aston      11     59995    48152       Blue            0        9   \n9912    Porsche       4     42982    41858      Black            2        1   \n9913    Porsche       4     42998    34346      Black            0        2   \n9914    Porsche       4     42998    39485      Black            0        2   \n9915    Porsche      16     28950    57851     Silver            0        6   \n9916    Porsche       4     45590    11223      White            0        1   \n9924    Bentley      16     26995    99510      Black            0        5   \n9925    Bentley      12     89525    19359      Black            0        2   \n9926    Bentley      16     41995    67783       Gray            0        6   \n\n      carUsage carCompanyCategory  \n9872         1             Luxury  \n9873         1             Luxury  \n9874         0             Luxury  \n9875         0             Luxury  \n9876         0             Luxury  \n9877         1             Luxury  \n9878         0             Luxury  \n9879         1             Luxury  \n9880         0             Luxury  \n9903         1             Luxury  \n9904         1             Luxury  \n9912         1             Luxury  \n9913         1             Luxury  \n9914         1             Luxury  \n9915         1             Luxury  \n9916         1             Luxury  \n9924         1             Luxury  \n9925         1             Luxury  \n9926         1             Luxury  ",
      "text/html": "<div>\n<style scoped>\n    .dataframe tbody tr th:only-of-type {\n        vertical-align: middle;\n    }\n\n    .dataframe tbody tr th {\n        vertical-align: top;\n    }\n\n    .dataframe thead th {\n        text-align: right;\n    }\n</style>\n<table border=\"1\" class=\"dataframe\">\n  <thead>\n    <tr style=\"text-align: right;\">\n      <th></th>\n      <th>carCompany</th>\n      <th>carAge</th>\n      <th>carPrice</th>\n      <th>carMile</th>\n      <th>carColorEx</th>\n      <th>carAccident</th>\n      <th>carOwner</th>\n      <th>carUsage</th>\n      <th>carCompanyCategory</th>\n    </tr>\n  </thead>\n  <tbody>\n    <tr>\n      <th>9872</th>\n      <td>Tesla</td>\n      <td>4</td>\n      <td>43153</td>\n      <td>18552</td>\n      <td>White</td>\n      <td>1</td>\n      <td>2</td>\n      <td>1</td>\n      <td>Luxury</td>\n    </tr>\n    <tr>\n      <th>9873</th>\n      <td>Tesla</td>\n      <td>4</td>\n      <td>58590</td>\n      <td>26152</td>\n      <td>Gray</td>\n      <td>0</td>\n      <td>1</td>\n      <td>1</td>\n      <td>Luxury</td>\n    </tr>\n    <tr>\n      <th>9874</th>\n      <td>Tesla</td>\n      <td>4</td>\n      <td>59400</td>\n      <td>27616</td>\n      <td>White</td>\n      <td>0</td>\n      <td>2</td>\n      <td>0</td>\n      <td>Luxury</td>\n    </tr>\n    <tr>\n      <th>9875</th>\n      <td>Tesla</td>\n      <td>4</td>\n      <td>73995</td>\n      <td>39304</td>\n      <td>Black</td>\n      <td>0</td>\n      <td>1</td>\n      <td>0</td>\n      <td>Luxury</td>\n    </tr>\n    <tr>\n      <th>9876</th>\n      <td>Tesla</td>\n      <td>4</td>\n      <td>73995</td>\n      <td>38734</td>\n      <td>Silver</td>\n      <td>0</td>\n      <td>1</td>\n      <td>0</td>\n      <td>Luxury</td>\n    </tr>\n    <tr>\n      <th>9877</th>\n      <td>Tesla</td>\n      <td>4</td>\n      <td>60888</td>\n      <td>44172</td>\n      <td>Black</td>\n      <td>0</td>\n      <td>2</td>\n      <td>1</td>\n      <td>Luxury</td>\n    </tr>\n    <tr>\n      <th>9878</th>\n      <td>Tesla</td>\n      <td>4</td>\n      <td>73995</td>\n      <td>39737</td>\n      <td>Silver</td>\n      <td>0</td>\n      <td>1</td>\n      <td>0</td>\n      <td>Luxury</td>\n    </tr>\n    <tr>\n      <th>9879</th>\n      <td>Tesla</td>\n      <td>4</td>\n      <td>75900</td>\n      <td>18752</td>\n      <td>Black</td>\n      <td>0</td>\n      <td>1</td>\n      <td>1</td>\n      <td>Luxury</td>\n    </tr>\n    <tr>\n      <th>9880</th>\n      <td>Tesla</td>\n      <td>4</td>\n      <td>73995</td>\n      <td>33126</td>\n      <td>Silver</td>\n      <td>0</td>\n      <td>1</td>\n      <td>0</td>\n      <td>Luxury</td>\n    </tr>\n    <tr>\n      <th>9903</th>\n      <td>Aston</td>\n      <td>10</td>\n      <td>59995</td>\n      <td>50575</td>\n      <td>White</td>\n      <td>2</td>\n      <td>3</td>\n      <td>1</td>\n      <td>Luxury</td>\n    </tr>\n    <tr>\n      <th>9904</th>\n      <td>Aston</td>\n      <td>11</td>\n      <td>59995</td>\n      <td>48152</td>\n      <td>Blue</td>\n      <td>0</td>\n      <td>9</td>\n      <td>1</td>\n      <td>Luxury</td>\n    </tr>\n    <tr>\n      <th>9912</th>\n      <td>Porsche</td>\n      <td>4</td>\n      <td>42982</td>\n      <td>41858</td>\n      <td>Black</td>\n      <td>2</td>\n      <td>1</td>\n      <td>1</td>\n      <td>Luxury</td>\n    </tr>\n    <tr>\n      <th>9913</th>\n      <td>Porsche</td>\n      <td>4</td>\n      <td>42998</td>\n      <td>34346</td>\n      <td>Black</td>\n      <td>0</td>\n      <td>2</td>\n      <td>1</td>\n      <td>Luxury</td>\n    </tr>\n    <tr>\n      <th>9914</th>\n      <td>Porsche</td>\n      <td>4</td>\n      <td>42998</td>\n      <td>39485</td>\n      <td>Black</td>\n      <td>0</td>\n      <td>2</td>\n      <td>1</td>\n      <td>Luxury</td>\n    </tr>\n    <tr>\n      <th>9915</th>\n      <td>Porsche</td>\n      <td>16</td>\n      <td>28950</td>\n      <td>57851</td>\n      <td>Silver</td>\n      <td>0</td>\n      <td>6</td>\n      <td>1</td>\n      <td>Luxury</td>\n    </tr>\n    <tr>\n      <th>9916</th>\n      <td>Porsche</td>\n      <td>4</td>\n      <td>45590</td>\n      <td>11223</td>\n      <td>White</td>\n      <td>0</td>\n      <td>1</td>\n      <td>1</td>\n      <td>Luxury</td>\n    </tr>\n    <tr>\n      <th>9924</th>\n      <td>Bentley</td>\n      <td>16</td>\n      <td>26995</td>\n      <td>99510</td>\n      <td>Black</td>\n      <td>0</td>\n      <td>5</td>\n      <td>1</td>\n      <td>Luxury</td>\n    </tr>\n    <tr>\n      <th>9925</th>\n      <td>Bentley</td>\n      <td>12</td>\n      <td>89525</td>\n      <td>19359</td>\n      <td>Black</td>\n      <td>0</td>\n      <td>2</td>\n      <td>1</td>\n      <td>Luxury</td>\n    </tr>\n    <tr>\n      <th>9926</th>\n      <td>Bentley</td>\n      <td>16</td>\n      <td>41995</td>\n      <td>67783</td>\n      <td>Gray</td>\n      <td>0</td>\n      <td>6</td>\n      <td>1</td>\n      <td>Luxury</td>\n    </tr>\n  </tbody>\n</table>\n</div>"
     },
     "execution_count": 56,
     "metadata": {},
     "output_type": "execute_result"
    }
   ],
   "source": [
    "dfMlCa[dfMlCa.carCompanyCategory == \"Luxury\"]"
   ],
   "metadata": {
    "collapsed": false,
    "pycharm": {
     "name": "#%%\n"
    }
   }
  },
  {
   "cell_type": "code",
   "execution_count": 57,
   "outputs": [
    {
     "data": {
      "text/plain": "Index(['carCompany', 'carAge', 'carPrice', 'carMile', 'carColorEx',\n       'carAccident', 'carOwner', 'carUsage', 'carCompanyCategory'],\n      dtype='object')"
     },
     "execution_count": 57,
     "metadata": {},
     "output_type": "execute_result"
    }
   ],
   "source": [
    "dfMlCa.columns"
   ],
   "metadata": {
    "collapsed": false,
    "pycharm": {
     "name": "#%%\n"
    }
   }
  },
  {
   "cell_type": "markdown",
   "source": [
    "With this assumption we want to model car price based on:<br/>\n",
    "With *carCompanyAve* instead of name"
   ],
   "metadata": {
    "collapsed": false,
    "pycharm": {
     "name": "#%% md\n"
    }
   }
  },
  {
   "cell_type": "code",
   "execution_count": 58,
   "outputs": [],
   "source": [
    "dfMlCa.drop([\"carCompany\"], axis=1, inplace=True)"
   ],
   "metadata": {
    "collapsed": false,
    "pycharm": {
     "name": "#%%\n"
    }
   }
  },
  {
   "cell_type": "code",
   "execution_count": 59,
   "outputs": [
    {
     "name": "stderr",
     "output_type": "stream",
     "text": [
      "C:\\Users\\34657\\AppData\\Local\\Temp/ipykernel_31772/3258905932.py:2: DeprecationWarning: `np.int` is a deprecated alias for the builtin `int`. To silence this warning, use `int` by itself. Doing this will not modify any behavior and is safe. When replacing `np.int`, you may wish to use e.g. `np.int64` or `np.int32` to specify the precision. If you wish to review your current use, check the release note link for additional information.\n",
      "Deprecated in NumPy 1.20; for more details and guidance: https://numpy.org/devdocs/release/1.20.0-notes.html#deprecations\n",
      "  dfMlCa[\"carOwner\"].astype(np.int)\n",
      "C:\\Users\\34657\\AppData\\Local\\Temp/ipykernel_31772/3258905932.py:3: DeprecationWarning: `np.int` is a deprecated alias for the builtin `int`. To silence this warning, use `int` by itself. Doing this will not modify any behavior and is safe. When replacing `np.int`, you may wish to use e.g. `np.int64` or `np.int32` to specify the precision. If you wish to review your current use, check the release note link for additional information.\n",
      "Deprecated in NumPy 1.20; for more details and guidance: https://numpy.org/devdocs/release/1.20.0-notes.html#deprecations\n",
      "  dfMlCa[\"carOwner\"] = dfMlCa[\"carOwner\"].astype(np.int)\n"
     ]
    }
   ],
   "source": [
    "dfMlCa.carColorEx.value_counts()\n",
    "dfMlCa[\"carOwner\"].astype(np.int)\n",
    "dfMlCa[\"carOwner\"] = dfMlCa[\"carOwner\"].astype(np.int)"
   ],
   "metadata": {
    "collapsed": false,
    "pycharm": {
     "name": "#%%\n"
    }
   }
  },
  {
   "cell_type": "code",
   "source": [],
   "metadata": {
    "collapsed": false,
    "pycharm": {
     "name": "#%% md Now we area going to use dummies and in the previouse section we have done rest of preprocesing\n"
    }
   },
   "execution_count": 59,
   "outputs": []
  },
  {
   "cell_type": "code",
   "execution_count": 60,
   "outputs": [
    {
     "data": {
      "text/plain": "Index(['carAge', 'carPrice', 'carMile', 'carAccident', 'carOwner', 'carUsage',\n       'carColorEx_Black', 'carColorEx_Blue', 'carColorEx_Brown',\n       'carColorEx_Gold', 'carColorEx_Gray', 'carColorEx_Green',\n       'carColorEx_Maroon', 'carColorEx_Orange', 'carColorEx_Purple',\n       'carColorEx_Red', 'carColorEx_Silver', 'carColorEx_Tan',\n       'carColorEx_White', 'carColorEx_Yellow', 'carCompanyCategory_Budget',\n       'carCompanyCategory_Luxury', 'carCompanyCategory_Mid_Range'],\n      dtype='object')"
     },
     "execution_count": 60,
     "metadata": {},
     "output_type": "execute_result"
    }
   ],
   "source": [
    "dfDummies = pd.get_dummies(dfMlCa)\n",
    "dfDummies.columns"
   ],
   "metadata": {
    "collapsed": false,
    "pycharm": {
     "name": "#%%\n"
    }
   }
  },
  {
   "cell_type": "code",
   "execution_count": 61,
   "outputs": [],
   "source": [
    "from sklearn import linear_model\n",
    "from sklearn.tree import DecisionTreeRegressor\n",
    "from sklearn.ensemble import RandomForestRegressor\n",
    "from sklearn.metrics import mean_absolute_error\n",
    "from sklearn.metrics import mean_squared_error\n",
    "from sklearn.model_selection import train_test_split"
   ],
   "metadata": {
    "collapsed": false,
    "pycharm": {
     "name": "#%%\n"
    }
   }
  },
  {
   "cell_type": "code",
   "execution_count": 62,
   "outputs": [],
   "source": [
    "train, test = train_test_split(dfDummies, test_size=0.2)"
   ],
   "metadata": {
    "collapsed": false,
    "pycharm": {
     "name": "#%%\n"
    }
   }
  },
  {
   "cell_type": "code",
   "execution_count": 63,
   "outputs": [
    {
     "name": "stdout",
     "output_type": "stream",
     "text": [
      "            carAge      carPrice        carMile  carAccident     carOwner  \\\n",
      "count  1990.000000   1990.000000    1990.000000  1990.000000  1990.000000   \n",
      "mean      4.085427  28951.915075   53958.027136     0.148744     1.411055   \n",
      "std       1.992883  11223.902422   35210.899800     0.425419     0.661274   \n",
      "min       1.000000   2000.000000     499.000000     0.000000     1.000000   \n",
      "25%       3.000000  19995.000000   30283.000000     0.000000     1.000000   \n",
      "50%       4.000000  28204.500000   44980.500000     0.000000     1.000000   \n",
      "75%       4.000000  36988.000000   68583.500000     0.000000     2.000000   \n",
      "max      25.000000  73995.000000  279213.000000     5.000000     6.000000   \n",
      "\n",
      "          carUsage  carColorEx_Black  carColorEx_Blue  carColorEx_Brown  \\\n",
      "count  1990.000000       1990.000000      1990.000000       1990.000000   \n",
      "mean      0.833166          0.288442         0.043216          0.000503   \n",
      "std       0.372921          0.453152         0.203394          0.022417   \n",
      "min       0.000000          0.000000         0.000000          0.000000   \n",
      "25%       1.000000          0.000000         0.000000          0.000000   \n",
      "50%       1.000000          0.000000         0.000000          0.000000   \n",
      "75%       1.000000          1.000000         0.000000          0.000000   \n",
      "max       1.000000          1.000000         1.000000          1.000000   \n",
      "\n",
      "       carColorEx_Gold  ...  carColorEx_Orange  carColorEx_Purple  \\\n",
      "count      1990.000000  ...             1990.0             1990.0   \n",
      "mean          0.001005  ...                0.0                0.0   \n",
      "std           0.031694  ...                0.0                0.0   \n",
      "min           0.000000  ...                0.0                0.0   \n",
      "25%           0.000000  ...                0.0                0.0   \n",
      "50%           0.000000  ...                0.0                0.0   \n",
      "75%           0.000000  ...                0.0                0.0   \n",
      "max           1.000000  ...                0.0                0.0   \n",
      "\n",
      "       carColorEx_Red  carColorEx_Silver  carColorEx_Tan  carColorEx_White  \\\n",
      "count     1990.000000        1990.000000          1990.0       1990.000000   \n",
      "mean         0.052764           0.098995             0.0          0.363819   \n",
      "std          0.223618           0.298730             0.0          0.481218   \n",
      "min          0.000000           0.000000             0.0          0.000000   \n",
      "25%          0.000000           0.000000             0.0          0.000000   \n",
      "50%          0.000000           0.000000             0.0          0.000000   \n",
      "75%          0.000000           0.000000             0.0          1.000000   \n",
      "max          1.000000           1.000000             0.0          1.000000   \n",
      "\n",
      "       carColorEx_Yellow  carCompanyCategory_Budget  \\\n",
      "count             1990.0                1990.000000   \n",
      "mean                 0.0                   0.001005   \n",
      "std                  0.0                   0.031694   \n",
      "min                  0.0                   0.000000   \n",
      "25%                  0.0                   0.000000   \n",
      "50%                  0.0                   0.000000   \n",
      "75%                  0.0                   0.000000   \n",
      "max                  0.0                   1.000000   \n",
      "\n",
      "       carCompanyCategory_Luxury  carCompanyCategory_Mid_Range  \n",
      "count                1990.000000                   1990.000000  \n",
      "mean                    0.001508                      0.997487  \n",
      "std                     0.038807                      0.050075  \n",
      "min                     0.000000                      0.000000  \n",
      "25%                     0.000000                      1.000000  \n",
      "50%                     0.000000                      1.000000  \n",
      "75%                     0.000000                      1.000000  \n",
      "max                     1.000000                      1.000000  \n",
      "\n",
      "[8 rows x 23 columns]\n",
      "--------------------------------------------------------------------------------\n",
      "            carAge       carPrice        carMile  carAccident     carOwner  \\\n",
      "count  7956.000000    7956.000000    7956.000000  7956.000000  7956.000000   \n",
      "mean      4.131347   28684.964304   54625.275892     0.170060     1.427099   \n",
      "std       1.899278   11073.243264   36326.992745     0.434078     0.702041   \n",
      "min       1.000000    1500.000000      19.000000     0.000000     1.000000   \n",
      "25%       3.000000   19991.000000   29549.750000     0.000000     1.000000   \n",
      "50%       4.000000   27998.500000   44722.500000     0.000000     1.000000   \n",
      "75%       4.000000   36944.250000   69563.000000     0.000000     2.000000   \n",
      "max      25.000000  101586.000000  293352.000000     4.000000     9.000000   \n",
      "\n",
      "          carUsage  carColorEx_Black  carColorEx_Blue  carColorEx_Brown  \\\n",
      "count  7956.000000       7956.000000      7956.000000       7956.000000   \n",
      "mean      0.850804          0.278155         0.046506          0.001885   \n",
      "std       0.356304          0.448118         0.210591          0.043383   \n",
      "min       0.000000          0.000000         0.000000          0.000000   \n",
      "25%       1.000000          0.000000         0.000000          0.000000   \n",
      "50%       1.000000          0.000000         0.000000          0.000000   \n",
      "75%       1.000000          1.000000         0.000000          0.000000   \n",
      "max       1.000000          1.000000         1.000000          1.000000   \n",
      "\n",
      "       carColorEx_Gold  ...  carColorEx_Orange  carColorEx_Purple  \\\n",
      "count      7956.000000  ...        7956.000000        7956.000000   \n",
      "mean          0.001508  ...           0.000126           0.000126   \n",
      "std           0.038810  ...           0.011211           0.011211   \n",
      "min           0.000000  ...           0.000000           0.000000   \n",
      "25%           0.000000  ...           0.000000           0.000000   \n",
      "50%           0.000000  ...           0.000000           0.000000   \n",
      "75%           0.000000  ...           0.000000           0.000000   \n",
      "max           1.000000  ...           1.000000           1.000000   \n",
      "\n",
      "       carColorEx_Red  carColorEx_Silver  carColorEx_Tan  carColorEx_White  \\\n",
      "count     7956.000000        7956.000000     7956.000000       7956.000000   \n",
      "mean         0.052539           0.113876        0.000880          0.343389   \n",
      "std          0.223125           0.317681        0.029651          0.474870   \n",
      "min          0.000000           0.000000        0.000000          0.000000   \n",
      "25%          0.000000           0.000000        0.000000          0.000000   \n",
      "50%          0.000000           0.000000        0.000000          0.000000   \n",
      "75%          0.000000           0.000000        0.000000          1.000000   \n",
      "max          1.000000           1.000000        1.000000          1.000000   \n",
      "\n",
      "       carColorEx_Yellow  carCompanyCategory_Budget  \\\n",
      "count        7956.000000                7956.000000   \n",
      "mean            0.000126                   0.000628   \n",
      "std             0.011211                   0.025063   \n",
      "min             0.000000                   0.000000   \n",
      "25%             0.000000                   0.000000   \n",
      "50%             0.000000                   0.000000   \n",
      "75%             0.000000                   0.000000   \n",
      "max             1.000000                   1.000000   \n",
      "\n",
      "       carCompanyCategory_Luxury  carCompanyCategory_Mid_Range  \n",
      "count                7956.000000                   7956.000000  \n",
      "mean                    0.002011                      0.997360  \n",
      "std                     0.044803                      0.051312  \n",
      "min                     0.000000                      0.000000  \n",
      "25%                     0.000000                      1.000000  \n",
      "50%                     0.000000                      1.000000  \n",
      "75%                     0.000000                      1.000000  \n",
      "max                     1.000000                      1.000000  \n",
      "\n",
      "[8 rows x 23 columns]\n",
      "--------------------------------------------------------------------------------\n",
      "<class 'pandas.core.frame.DataFrame'>\n",
      "Int64Index: 1990 entries, 8323 to 8396\n",
      "Data columns (total 23 columns):\n",
      " #   Column                        Non-Null Count  Dtype\n",
      "---  ------                        --------------  -----\n",
      " 0   carAge                        1990 non-null   int64\n",
      " 1   carPrice                      1990 non-null   int64\n",
      " 2   carMile                       1990 non-null   int64\n",
      " 3   carAccident                   1990 non-null   int64\n",
      " 4   carOwner                      1990 non-null   int32\n",
      " 5   carUsage                      1990 non-null   int64\n",
      " 6   carColorEx_Black              1990 non-null   uint8\n",
      " 7   carColorEx_Blue               1990 non-null   uint8\n",
      " 8   carColorEx_Brown              1990 non-null   uint8\n",
      " 9   carColorEx_Gold               1990 non-null   uint8\n",
      " 10  carColorEx_Gray               1990 non-null   uint8\n",
      " 11  carColorEx_Green              1990 non-null   uint8\n",
      " 12  carColorEx_Maroon             1990 non-null   uint8\n",
      " 13  carColorEx_Orange             1990 non-null   uint8\n",
      " 14  carColorEx_Purple             1990 non-null   uint8\n",
      " 15  carColorEx_Red                1990 non-null   uint8\n",
      " 16  carColorEx_Silver             1990 non-null   uint8\n",
      " 17  carColorEx_Tan                1990 non-null   uint8\n",
      " 18  carColorEx_White              1990 non-null   uint8\n",
      " 19  carColorEx_Yellow             1990 non-null   uint8\n",
      " 20  carCompanyCategory_Budget     1990 non-null   uint8\n",
      " 21  carCompanyCategory_Luxury     1990 non-null   uint8\n",
      " 22  carCompanyCategory_Mid_Range  1990 non-null   uint8\n",
      "dtypes: int32(1), int64(5), uint8(17)\n",
      "memory usage: 134.1 KB\n",
      "None\n"
     ]
    }
   ],
   "source": [
    "print(test.describe())\n",
    "print(\"----\"*20)\n",
    "print(train.describe())\n",
    "print(\"----\"*20)\n",
    "print(test.info())"
   ],
   "metadata": {
    "collapsed": false,
    "pycharm": {
     "name": "#%% check test and train\n"
    }
   }
  },
  {
   "cell_type": "code",
   "execution_count": 64,
   "outputs": [],
   "source": [
    "testX = test.drop(columns=[\"carPrice\"])\n",
    "testY = test[\"carPrice\"]\n",
    "trainX = train.drop(columns=[\"carPrice\"])\n",
    "trainY = train[\"carPrice\"]"
   ],
   "metadata": {
    "collapsed": false,
    "pycharm": {
     "name": "#%%\n"
    }
   }
  },
  {
   "cell_type": "code",
   "execution_count": 65,
   "outputs": [
    {
     "name": "stdout",
     "output_type": "stream",
     "text": [
      "Decision Tree\n",
      "10577.079899497487\n",
      "-0.47443265599206597\n"
     ]
    }
   ],
   "source": [
    "dtr = DecisionTreeRegressor()\n",
    "dtr.fit(trainX, trainY)\n",
    "dtr_prediction = dtr.predict(testX)\n",
    "print(\"Decision Tree\")\n",
    "print(mean_absolute_error(testY, dtr_prediction))\n",
    "print(dtr.score(testX, testY))"
   ],
   "metadata": {
    "collapsed": false,
    "pycharm": {
     "name": "#%%\n"
    }
   }
  },
  {
   "cell_type": "code",
   "execution_count": 77,
   "outputs": [],
   "source": [
    "from sklearn.linear_model import LinearRegression\n",
    "from sklearn.metrics import mean_squared_error, mean_absolute_error, r2_score\n",
    "from sklearn.linear_model import Ridge"
   ],
   "metadata": {
    "collapsed": false,
    "pycharm": {
     "name": "#%%\n"
    }
   }
  },
  {
   "cell_type": "code",
   "execution_count": 67,
   "outputs": [],
   "source": [
    "lr = LinearRegression()"
   ],
   "metadata": {
    "collapsed": false,
    "pycharm": {
     "name": "#%%\n"
    }
   }
  },
  {
   "cell_type": "code",
   "execution_count": 69,
   "outputs": [
    {
     "data": {
      "text/plain": "array([-1.11031863e+03, -8.82247314e-02, -2.21263170e+03, -1.23584449e+03,\n        2.79722356e+03, -5.42102643e+01, -1.55206739e+03,  5.93891864e+03,\n       -1.41345746e+03, -1.79533401e+03,  1.81898940e-12, -1.09139364e-11,\n       -9.09494702e-13,  1.13686838e-13,  9.90402238e+02, -2.01785490e+03,\n        0.00000000e+00, -9.63968521e+01,  0.00000000e+00, -5.72752615e+03,\n        2.07028845e+04, -1.49753583e+04])"
     },
     "execution_count": 69,
     "metadata": {},
     "output_type": "execute_result"
    }
   ],
   "source": [
    "lr.fit(testX, testY)"
   ],
   "metadata": {
    "collapsed": false,
    "pycharm": {
     "name": "#%%\n"
    }
   }
  },
  {
   "cell_type": "code",
   "execution_count": 71,
   "outputs": [
    {
     "name": "stdout",
     "output_type": "stream",
     "text": [
      "[-1.11031863e+03 -8.82247314e-02 -2.21263170e+03 -1.23584449e+03\n",
      "  2.79722356e+03 -5.42102643e+01 -1.55206739e+03  5.93891864e+03\n",
      " -1.41345746e+03 -1.79533401e+03  1.81898940e-12 -1.09139364e-11\n",
      " -9.09494702e-13  1.13686838e-13  9.90402238e+02 -2.01785490e+03\n",
      "  0.00000000e+00 -9.63968521e+01  0.00000000e+00 -5.72752615e+03\n",
      "  2.07028845e+04 -1.49753583e+04]\n",
      "53438.433572729744\n",
      "0.2577186746005835\n"
     ]
    }
   ],
   "source": [
    "print(lr.coef_)\n",
    "print(lr.intercept_)\n",
    "print(lr.score(testX, testY))"
   ],
   "metadata": {
    "collapsed": false,
    "pycharm": {
     "name": "#%%\n"
    }
   }
  },
  {
   "cell_type": "code",
   "execution_count": null,
   "outputs": [],
   "source": [
    "mean_absolute_error(y, yhat)"
   ],
   "metadata": {
    "collapsed": false,
    "pycharm": {
     "name": "#%%\n"
    }
   }
  },
  {
   "cell_type": "code",
   "execution_count": 75,
   "outputs": [
    {
     "data": {
      "text/plain": "9667.607345653647"
     },
     "execution_count": 75,
     "metadata": {},
     "output_type": "execute_result"
    }
   ],
   "source": [
    "yhat = lr.predict(testX)\n",
    "np.sqrt(mean_squared_error(testY, yhat))"
   ],
   "metadata": {
    "collapsed": false,
    "pycharm": {
     "name": "#%%\n"
    }
   }
  },
  {
   "cell_type": "code",
   "execution_count": 78,
   "outputs": [
    {
     "data": {
      "text/plain": "Ridge(alpha=1)"
     },
     "execution_count": 78,
     "metadata": {},
     "output_type": "execute_result"
    }
   ],
   "source": [
    "r = Ridge(alpha=1)\n",
    "r.fit(trainX, trainY)"
   ],
   "metadata": {
    "collapsed": false,
    "pycharm": {
     "name": "#%%\n"
    }
   }
  },
  {
   "cell_type": "code",
   "execution_count": 80,
   "outputs": [
    {
     "data": {
      "text/plain": "(1990,)"
     },
     "execution_count": 80,
     "metadata": {},
     "output_type": "execute_result"
    }
   ],
   "source": [
    "yhat_test = r.predict(testX)\n",
    "yhat_test.shape"
   ],
   "metadata": {
    "collapsed": false,
    "pycharm": {
     "name": "#%%\n"
    }
   }
  },
  {
   "cell_type": "code",
   "execution_count": 81,
   "outputs": [
    {
     "data": {
      "text/plain": "(0.25536024736145235, 8060.974188894755)"
     },
     "execution_count": 81,
     "metadata": {},
     "output_type": "execute_result"
    }
   ],
   "source": [
    "r2_score(testY, yhat_test), mean_absolute_error(testY, yhat_test)"
   ],
   "metadata": {
    "collapsed": false,
    "pycharm": {
     "name": "#%%\n"
    }
   }
  }
 ],
 "metadata": {
  "kernelspec": {
   "display_name": "Python 3",
   "language": "python",
   "name": "python3"
  },
  "language_info": {
   "codemirror_mode": {
    "name": "ipython",
    "version": 2
   },
   "file_extension": ".py",
   "mimetype": "text/x-python",
   "name": "python",
   "nbconvert_exporter": "python",
   "pygments_lexer": "ipython2",
   "version": "2.7.6"
  }
 },
 "nbformat": 4,
 "nbformat_minor": 0
}